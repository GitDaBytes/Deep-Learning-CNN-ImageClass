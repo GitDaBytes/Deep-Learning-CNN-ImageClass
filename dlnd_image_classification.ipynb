{
 "cells": [
  {
   "cell_type": "markdown",
   "metadata": {
    "collapsed": true
   },
   "source": [
    "# Image Classification\n",
    "In this project, you'll classify images from the [CIFAR-10 dataset](https://www.cs.toronto.edu/~kriz/cifar.html).  The dataset consists of airplanes, dogs, cats, and other objects. You'll preprocess the images, then train a convolutional neural network on all the samples. The images need to be normalized and the labels need to be one-hot encoded.  You'll get to apply what you learned and build a convolutional, max pooling, dropout, and fully connected layers.  At the end, you'll get to see your neural network's predictions on the sample images.\n",
    "## Get the Data\n",
    "Run the following cell to download the [CIFAR-10 dataset for python](https://www.cs.toronto.edu/~kriz/cifar-10-python.tar.gz)."
   ]
  },
  {
   "cell_type": "code",
   "execution_count": 1,
   "metadata": {},
   "outputs": [
    {
     "name": "stderr",
     "output_type": "stream",
     "text": [
      "CIFAR-10 Dataset: 171MB [00:09, 18.8MB/s]                              \n"
     ]
    },
    {
     "name": "stdout",
     "output_type": "stream",
     "text": [
      "All files found!\n"
     ]
    }
   ],
   "source": [
    "\"\"\"\n",
    "DON'T MODIFY ANYTHING IN THIS CELL THAT IS BELOW THIS LINE\n",
    "\"\"\"\n",
    "from urllib.request import urlretrieve\n",
    "from os.path import isfile, isdir\n",
    "from tqdm import tqdm\n",
    "import problem_unittests as tests\n",
    "import tarfile\n",
    "\n",
    "cifar10_dataset_folder_path = 'cifar-10-batches-py'\n",
    "\n",
    "# Use Floyd's cifar-10 dataset if present\n",
    "floyd_cifar10_location = '/input/cifar-10/python.tar.gz'\n",
    "if isfile(floyd_cifar10_location):\n",
    "    tar_gz_path = floyd_cifar10_location\n",
    "else:\n",
    "    tar_gz_path = 'cifar-10-python.tar.gz'\n",
    "\n",
    "class DLProgress(tqdm):\n",
    "    last_block = 0\n",
    "\n",
    "    def hook(self, block_num=1, block_size=1, total_size=None):\n",
    "        self.total = total_size\n",
    "        self.update((block_num - self.last_block) * block_size)\n",
    "        self.last_block = block_num\n",
    "\n",
    "if not isfile(tar_gz_path):\n",
    "    with DLProgress(unit='B', unit_scale=True, miniters=1, desc='CIFAR-10 Dataset') as pbar:\n",
    "        urlretrieve(\n",
    "            'https://www.cs.toronto.edu/~kriz/cifar-10-python.tar.gz',\n",
    "            tar_gz_path,\n",
    "            pbar.hook)\n",
    "\n",
    "if not isdir(cifar10_dataset_folder_path):\n",
    "    with tarfile.open(tar_gz_path) as tar:\n",
    "        tar.extractall()\n",
    "        tar.close()\n",
    "\n",
    "\n",
    "tests.test_folder_path(cifar10_dataset_folder_path)"
   ]
  },
  {
   "cell_type": "markdown",
   "metadata": {},
   "source": [
    "## Explore the Data\n",
    "The dataset is broken into batches to prevent your machine from running out of memory.  The CIFAR-10 dataset consists of 5 batches, named `data_batch_1`, `data_batch_2`, etc.. Each batch contains the labels and images that are one of the following:\n",
    "* airplane\n",
    "* automobile\n",
    "* bird\n",
    "* cat\n",
    "* deer\n",
    "* dog\n",
    "* frog\n",
    "* horse\n",
    "* ship\n",
    "* truck\n",
    "\n",
    "Understanding a dataset is part of making predictions on the data.  Play around with the code cell below by changing the `batch_id` and `sample_id`. The `batch_id` is the id for a batch (1-5). The `sample_id` is the id for a image and label pair in the batch.\n",
    "\n",
    "Ask yourself \"What are all possible labels?\", \"What is the range of values for the image data?\", \"Are the labels in order or random?\".  Answers to questions like these will help you preprocess the data and end up with better predictions."
   ]
  },
  {
   "cell_type": "code",
   "execution_count": 2,
   "metadata": {},
   "outputs": [
    {
     "name": "stdout",
     "output_type": "stream",
     "text": [
      "\n",
      "Stats of batch 2:\n",
      "Samples: 10000\n",
      "Label Counts: {0: 984, 1: 1007, 2: 1010, 3: 995, 4: 1010, 5: 988, 6: 1008, 7: 1026, 8: 987, 9: 985}\n",
      "First 20 Labels: [1, 6, 6, 8, 8, 3, 4, 6, 0, 6, 0, 3, 6, 6, 5, 4, 8, 3, 2, 6]\n",
      "\n",
      "Example of Image 6:\n",
      "Image - Min Value: 0 Max Value: 235\n",
      "Image - Shape: (32, 32, 3)\n",
      "Label - Label Id: 4 Name: deer\n"
     ]
    },
    {
     "data": {
      "image/png": "[encoded data removed]",
      "text/plain": [
       "<matplotlib.figure.Figure at 0x7f57cdb3ee48>"
      ]
     },
     "metadata": {
      "image/png": {
       "height": 250,
       "width": 253
      }
     },
     "output_type": "display_data"
    }
   ],
   "source": [
    "%matplotlib inline\n",
    "%config InlineBackend.figure_format = 'retina'\n",
    "\n",
    "import helper\n",
    "import numpy as np\n",
    "\n",
    "# Explore the dataset\n",
    "batch_id = 2\n",
    "sample_id = 6\n",
    "helper.display_stats(cifar10_dataset_folder_path, batch_id, sample_id)"
   ]
  },
  {
   "cell_type": "markdown",
   "metadata": {},
   "source": [
    "## Implement Preprocess Functions\n",
    "### Normalize\n",
    "In the cell below, implement the `normalize` function to take in image data, `x`, and return it as a normalized Numpy array. The values should be in the range of 0 to 1, inclusive.  The return object should be the same shape as `x`."
   ]
  },
  {
   "cell_type": "code",
   "execution_count": 3,
   "metadata": {},
   "outputs": [
    {
     "name": "stdout",
     "output_type": "stream",
     "text": [
      "Tests Passed\n"
     ]
    }
   ],
   "source": [
    "def normalize(x):\n",
    "    \"\"\"\n",
    "    Normalize a list of sample image data in the range of 0 to 1\n",
    "    : x: List of image data.  The image shape is (32, 32, 3)\n",
    "    : return: Numpy array of normalize data\n",
    "    \"\"\"\n",
    "    \n",
    "    return x/255.0\n",
    "\n",
    "\n",
    "\"\"\"\n",
    "DON'T MODIFY ANYTHING IN THIS CELL THAT IS BELOW THIS LINE\n",
    "\"\"\"\n",
    "tests.test_normalize(normalize)"
   ]
  },
  {
   "cell_type": "markdown",
   "metadata": {},
   "source": [
    "### One-hot encode\n",
    "Just like the previous code cell, you'll be implementing a function for preprocessing.  This time, you'll implement the `one_hot_encode` function. The input, `x`, are a list of labels.  Implement the function to return the list of labels as One-Hot encoded Numpy array.  The possible values for labels are 0 to 9. The one-hot encoding function should return the same encoding for each value between each call to `one_hot_encode`.  Make sure to save the map of encodings outside the function.\n",
    "\n",
    "Hint: Don't reinvent the wheel."
   ]
  },
  {
   "cell_type": "code",
   "execution_count": 4,
   "metadata": {},
   "outputs": [
    {
     "name": "stdout",
     "output_type": "stream",
     "text": [
      "Tests Passed\n"
     ]
    }
   ],
   "source": [
    "import pandas as pd\n",
    "\n",
    "def one_hot_encode(x):\n",
    "    \"\"\"\n",
    "    One hot encode a list of sample labels. Return a one-hot encoded vector for each label.\n",
    "    : x: List of sample Labels\n",
    "    : return: Numpy array of one-hot encoded labels\n",
    "    \"\"\"\n",
    "    \n",
    "    df = pd.DataFrame()\n",
    "    \n",
    "    df['vals'] = pd.Categorical(x, categories=range(10))\n",
    "    \n",
    "    label_one_hot = np.array(pd.get_dummies(df['vals']))\n",
    "   \n",
    "    return label_one_hot\n",
    "\n",
    "\n",
    "\"\"\"\n",
    "DON'T MODIFY ANYTHING IN THIS CELL THAT IS BELOW THIS LINE\n",
    "\"\"\"\n",
    "tests.test_one_hot_encode(one_hot_encode)"
   ]
  },
  {
   "cell_type": "markdown",
   "metadata": {},
   "source": [
    "### Randomize Data\n",
    "As you saw from exploring the data above, the order of the samples are randomized.  It doesn't hurt to randomize it again, but you don't need to for this dataset."
   ]
  },
  {
   "cell_type": "markdown",
   "metadata": {},
   "source": [
    "## Preprocess all the data and save it\n",
    "Running the code cell below will preprocess all the CIFAR-10 data and save it to file. The code below also uses 10% of the training data for validation."
   ]
  },
  {
   "cell_type": "code",
   "execution_count": 5,
   "metadata": {
    "collapsed": true
   },
   "outputs": [],
   "source": [
    "\"\"\"\n",
    "DON'T MODIFY ANYTHING IN THIS CELL\n",
    "\"\"\"\n",
    "# Preprocess Training, Validation, and Testing Data\n",
    "helper.preprocess_and_save_data(cifar10_dataset_folder_path, normalize, one_hot_encode)"
   ]
  },
  {
   "cell_type": "markdown",
   "metadata": {},
   "source": [
    "# Check Point\n",
    "This is your first checkpoint.  If you ever decide to come back to this notebook or have to restart the notebook, you can start from here.  The preprocessed data has been saved to disk."
   ]
  },
  {
   "cell_type": "code",
   "execution_count": 6,
   "metadata": {
    "collapsed": true
   },
   "outputs": [],
   "source": [
    "\"\"\"\n",
    "DON'T MODIFY ANYTHING IN THIS CELL\n",
    "\"\"\"\n",
    "import pickle\n",
    "import problem_unittests as tests\n",
    "import helper\n",
    "\n",
    "# Load the Preprocessed Validation data\n",
    "valid_features, valid_labels = pickle.load(open('preprocess_validation.p', mode='rb'))"
   ]
  },
  {
   "cell_type": "markdown",
   "metadata": {},
   "source": [
    "## Build the network\n",
    "For the neural network, you'll build each layer into a function.  Most of the code you've seen has been outside of functions. To test your code more thoroughly, we require that you put each layer in a function.  This allows us to give you better feedback and test for simple mistakes using our unittests before you submit your project.\n",
    "\n",
    ">**Note:** If you're finding it hard to dedicate enough time for this course each week, we've provided a small shortcut to this part of the project. In the next couple of problems, you'll have the option to use classes from the [TensorFlow Layers](https://www.tensorflow.org/api_docs/python/tf/layers) or [TensorFlow Layers (contrib)](https://www.tensorflow.org/api_guides/python/contrib.layers) packages to build each layer, except the layers you build in the \"Convolutional and Max Pooling Layer\" section.  TF Layers is similar to Keras's and TFLearn's abstraction to layers, so it's easy to pickup.\n",
    "\n",
    ">However, if you would like to get the most out of this course, try to solve all the problems _without_ using anything from the TF Layers packages. You **can** still use classes from other packages that happen to have the same name as ones you find in TF Layers! For example, instead of using the TF Layers version of the `conv2d` class, [tf.layers.conv2d](https://www.tensorflow.org/api_docs/python/tf/layers/conv2d), you would want to use the TF Neural Network version of `conv2d`, [tf.nn.conv2d](https://www.tensorflow.org/api_docs/python/tf/nn/conv2d). \n",
    "\n",
    "Let's begin!\n",
    "\n",
    "### Input\n",
    "The neural network needs to read the image data, one-hot encoded labels, and dropout keep probability. Implement the following functions\n",
    "* Implement `neural_net_image_input`\n",
    " * Return a [TF Placeholder](https://www.tensorflow.org/api_docs/python/tf/placeholder)\n",
    " * Set the shape using `image_shape` with batch size set to `None`.\n",
    " * Name the TensorFlow placeholder \"x\" using the TensorFlow `name` parameter in the [TF Placeholder](https://www.tensorflow.org/api_docs/python/tf/placeholder).\n",
    "* Implement `neural_net_label_input`\n",
    " * Return a [TF Placeholder](https://www.tensorflow.org/api_docs/python/tf/placeholder)\n",
    " * Set the shape using `n_classes` with batch size set to `None`.\n",
    " * Name the TensorFlow placeholder \"y\" using the TensorFlow `name` parameter in the [TF Placeholder](https://www.tensorflow.org/api_docs/python/tf/placeholder).\n",
    "* Implement `neural_net_keep_prob_input`\n",
    " * Return a [TF Placeholder](https://www.tensorflow.org/api_docs/python/tf/placeholder) for dropout keep probability.\n",
    " * Name the TensorFlow placeholder \"keep_prob\" using the TensorFlow `name` parameter in the [TF Placeholder](https://www.tensorflow.org/api_docs/python/tf/placeholder).\n",
    "\n",
    "These names will be used at the end of the project to load your saved model.\n",
    "\n",
    "Note: `None` for shapes in TensorFlow allow for a dynamic size."
   ]
  },
  {
   "cell_type": "code",
   "execution_count": 12,
   "metadata": {},
   "outputs": [
    {
     "name": "stdout",
     "output_type": "stream",
     "text": [
      "Image Input Tests Passed.\n",
      "Label Input Tests Passed.\n",
      "Keep Prob Tests Passed.\n"
     ]
    }
   ],
   "source": [
    "import tensorflow as tf\n",
    "\n",
    "def neural_net_image_input(image_shape):\n",
    "    \"\"\"\n",
    "    Return a Tensor for a bach of image input\n",
    "    : image_shape: Shape of the images\n",
    "    : return: Tensor for image input.\n",
    "    \"\"\"\n",
    "    return tf.placeholder(tf.float32, shape=(None, image_shape[0], image_shape[1], image_shape[2]), name='x')\n",
    "\n",
    "\n",
    "def neural_net_label_input(n_classes):\n",
    "    \"\"\"\n",
    "    Return a Tensor for a batch of label input\n",
    "    : n_classes: Number of classes\n",
    "    : return: Tensor for label input.\n",
    "    \"\"\"\n",
    "    return tf.placeholder(tf.float32, shape=(None, n_classes), name='y')\n",
    "\n",
    "\n",
    "def neural_net_keep_prob_input():\n",
    "    \"\"\"\n",
    "    Return a Tensor for keep probability\n",
    "    : return: Tensor for keep probability.\n",
    "    \"\"\"\n",
    "    return tf.placeholder(tf.float32, name='keep_prob')\n",
    "\n",
    "\n",
    "\"\"\"\n",
    "DON'T MODIFY ANYTHING IN THIS CELL THAT IS BELOW THIS LINE\n",
    "\"\"\"\n",
    "tf.reset_default_graph()\n",
    "tests.test_nn_image_inputs(neural_net_image_input)\n",
    "tests.test_nn_label_inputs(neural_net_label_input)\n",
    "tests.test_nn_keep_prob_inputs(neural_net_keep_prob_input)"
   ]
  },
  {
   "cell_type": "markdown",
   "metadata": {},
   "source": [
    "### Convolution and Max Pooling Layer\n",
    "Convolution layers have a lot of success with images. For this code cell, you should implement the function `conv2d_maxpool` to apply convolution then max pooling:\n",
    "* Create the weight and bias using `conv_ksize`, `conv_num_outputs` and the shape of `x_tensor`.\n",
    "* Apply a convolution to `x_tensor` using weight and `conv_strides`.\n",
    " * We recommend you use same padding, but you're welcome to use any padding.\n",
    "* Add bias\n",
    "* Add a nonlinear activation to the convolution.\n",
    "* Apply Max Pooling using `pool_ksize` and `pool_strides`.\n",
    " * We recommend you use same padding, but you're welcome to use any padding.\n",
    "\n",
    "**Note:** You **can't** use [TensorFlow Layers](https://www.tensorflow.org/api_docs/python/tf/layers) or [TensorFlow Layers (contrib)](https://www.tensorflow.org/api_guides/python/contrib.layers) for **this** layer, but you can still use TensorFlow's [Neural Network](https://www.tensorflow.org/api_docs/python/tf/nn) package. You may still use the shortcut option for all the **other** layers."
   ]
  },
  {
   "cell_type": "code",
   "execution_count": 13,
   "metadata": {},
   "outputs": [
    {
     "name": "stdout",
     "output_type": "stream",
     "text": [
      "Tests Passed\n"
     ]
    }
   ],
   "source": [
    "def conv2d_maxpool(x_tensor, conv_num_outputs, conv_ksize, conv_strides, pool_ksize, pool_strides):\n",
    "    \"\"\"\n",
    "    Apply convolution then max pooling to x_tensor\n",
    "    :param x_tensor: TensorFlow Tensor\n",
    "    :param conv_num_outputs: Number of outputs for the convolutional layer\n",
    "    :param conv_ksize: kernal size 2-D Tuple for the convolutional layer\n",
    "    :param conv_strides: Stride 2-D Tuple for convolution\n",
    "    :param pool_ksize: kernal size 2-D Tuple for pool\n",
    "    :param pool_strides: Stride 2-D Tuple for pool\n",
    "    : return: A tensor that represents convolution and max pooling of x_tensor\n",
    "    \"\"\"\n",
    "    \n",
    "    input_depth = int(x_tensor.shape[3])\n",
    "    \n",
    "    weight_init = (1.0/int(x_tensor.shape[1]))\n",
    "    \n",
    "    ## setup weights and bias\n",
    "    weights = tf.Variable(tf.truncated_normal((conv_ksize[0], conv_ksize[1], input_depth, conv_num_outputs), 0, weight_init))\n",
    "    bias    = tf.Variable(tf.zeros(conv_num_outputs))\n",
    "    \n",
    "\n",
    "    ## 2d convolution\n",
    "    x = tf.nn.conv2d(x_tensor, weights, strides=[1, conv_strides[0], conv_strides[1], 1], padding='SAME')\n",
    "    x = tf.nn.bias_add(x, bias)\n",
    "                     \n",
    "    ## add non-linear activation\n",
    "    x = tf.nn.relu(x)\n",
    "    \n",
    "    \n",
    "    ## Max Pooling \n",
    "    ksize = [1, pool_ksize[0], pool_ksize[1], 1]\n",
    "    strides = [1, pool_strides[0], pool_strides[1], 1]\n",
    "    padding = 'SAME'\n",
    "    result = tf.nn.max_pool(x, ksize, strides, padding)\n",
    "\n",
    "    return result \n",
    "\n",
    "\"\"\"\n",
    "DON'T MODIFY ANYTHING IN THIS CELL THAT IS BELOW THIS LINE\n",
    "\"\"\"\n",
    "tests.test_con_pool(conv2d_maxpool)"
   ]
  },
  {
   "cell_type": "markdown",
   "metadata": {},
   "source": [
    "### Flatten Layer\n",
    "Implement the `flatten` function to change the dimension of `x_tensor` from a 4-D tensor to a 2-D tensor.  The output should be the shape (*Batch Size*, *Flattened Image Size*). Shortcut option: you can use classes from the [TensorFlow Layers](https://www.tensorflow.org/api_docs/python/tf/layers) or [TensorFlow Layers (contrib)](https://www.tensorflow.org/api_guides/python/contrib.layers) packages for this layer. For more of a challenge, only use other TensorFlow packages."
   ]
  },
  {
   "cell_type": "code",
   "execution_count": 14,
   "metadata": {},
   "outputs": [
    {
     "name": "stdout",
     "output_type": "stream",
     "text": [
      "Tests Passed\n"
     ]
    }
   ],
   "source": [
    "import numpy as np\n",
    "\n",
    "def flatten(x_tensor):\n",
    "    \"\"\"\n",
    "    Flatten x_tensor to (Batch Size, Flattened Image Size)\n",
    "    : x_tensor: A tensor of size (Batch Size, ...), where ... are the image dimensions.\n",
    "    : return: A tensor of size (Batch Size, Flattened Image Size).\n",
    "    \"\"\"\n",
    "    shape = x_tensor.get_shape().as_list() \n",
    "    dim = np.prod(shape[1:])            \n",
    "    x_tensor_2 = tf.reshape(x_tensor, [-1, dim])\n",
    "    \n",
    "    return x_tensor_2\n",
    "\n",
    "\n",
    "\"\"\"\n",
    "DON'T MODIFY ANYTHING IN THIS CELL THAT IS BELOW THIS LINE\n",
    "\"\"\"\n",
    "tests.test_flatten(flatten)"
   ]
  },
  {
   "cell_type": "markdown",
   "metadata": {},
   "source": [
    "### Fully-Connected Layer\n",
    "Implement the `fully_conn` function to apply a fully connected layer to `x_tensor` with the shape (*Batch Size*, *num_outputs*). Shortcut option: you can use classes from the [TensorFlow Layers](https://www.tensorflow.org/api_docs/python/tf/layers) or [TensorFlow Layers (contrib)](https://www.tensorflow.org/api_guides/python/contrib.layers) packages for this layer. For more of a challenge, only use other TensorFlow packages."
   ]
  },
  {
   "cell_type": "code",
   "execution_count": 15,
   "metadata": {},
   "outputs": [
    {
     "name": "stdout",
     "output_type": "stream",
     "text": [
      "Tests Passed\n"
     ]
    }
   ],
   "source": [
    "import math\n",
    "\n",
    "def fully_conn(x_tensor, num_outputs):\n",
    "    \"\"\"\n",
    "    Apply a fully connected layer to x_tensor using weight and bias\n",
    "    : x_tensor: A 2-D tensor where the first dimension is batch size.\n",
    "    : num_outputs: The number of output that the new tensor should be.\n",
    "    : return: A 2-D tensor where the second dimension is num_outputs.\n",
    "    \"\"\"\n",
    "    \n",
    "    weight_init = (1.0/math.sqrt(int(x_tensor.shape[1])))\n",
    "    \n",
    "    weights = tf.Variable(tf.truncated_normal((int(x_tensor.shape[1]), num_outputs), 0.0, weight_init))\n",
    "    bias    = tf.Variable(tf.zeros(num_outputs))\n",
    "    \n",
    "    result = tf.add(tf.matmul(x_tensor, weights), bias)\n",
    "    \n",
    "    result = tf.nn.relu(result)\n",
    "    \n",
    "    return result\n",
    "\n",
    "\n",
    "\"\"\"\n",
    "DON'T MODIFY ANYTHING IN THIS CELL THAT IS BELOW THIS LINE\n",
    "\"\"\"\n",
    "tests.test_fully_conn(fully_conn)"
   ]
  },
  {
   "cell_type": "markdown",
   "metadata": {},
   "source": [
    "### Output Layer\n",
    "Implement the `output` function to apply a fully connected layer to `x_tensor` with the shape (*Batch Size*, *num_outputs*). Shortcut option: you can use classes from the [TensorFlow Layers](https://www.tensorflow.org/api_docs/python/tf/layers) or [TensorFlow Layers (contrib)](https://www.tensorflow.org/api_guides/python/contrib.layers) packages for this layer. For more of a challenge, only use other TensorFlow packages.\n",
    "\n",
    "**Note:** Activation, softmax, or cross entropy should **not** be applied to this."
   ]
  },
  {
   "cell_type": "code",
   "execution_count": 16,
   "metadata": {},
   "outputs": [
    {
     "name": "stdout",
     "output_type": "stream",
     "text": [
      "Tests Passed\n"
     ]
    }
   ],
   "source": [
    "def output(x_tensor, num_outputs):\n",
    "    \"\"\"\n",
    "    Apply a output layer to x_tensor using weight and bias\n",
    "    : x_tensor: A 2-D tensor where the first dimension is batch size.\n",
    "    : num_outputs: The number of output that the new tensor should be.\n",
    "    : return: A 2-D tensor where the second dimension is num_outputs.\n",
    "    \"\"\"\n",
    "    weight_init = (1.0/math.sqrt(int(x_tensor.shape[1])))\n",
    "    \n",
    "    weights = tf.Variable(tf.truncated_normal((int(x_tensor.shape[1]), num_outputs), 0.0, weight_init))\n",
    "    bias    = tf.Variable(tf.zeros(num_outputs))\n",
    "    \n",
    "    result = tf.add(tf.matmul(x_tensor, weights), bias)\n",
    "    \n",
    " \n",
    "    return result\n",
    "\n",
    "\n",
    "\"\"\"\n",
    "DON'T MODIFY ANYTHING IN THIS CELL THAT IS BELOW THIS LINE\n",
    "\"\"\"\n",
    "tests.test_output(output)"
   ]
  },
  {
   "cell_type": "markdown",
   "metadata": {},
   "source": [
    "### Create Convolutional Model\n",
    "Implement the function `conv_net` to create a convolutional neural network model. The function takes in a batch of images, `x`, and outputs logits.  Use the layers you created above to create this model:\n",
    "\n",
    "* Apply 1, 2, or 3 Convolution and Max Pool layers\n",
    "* Apply a Flatten Layer\n",
    "* Apply 1, 2, or 3 Fully Connected Layers\n",
    "* Apply an Output Layer\n",
    "* Return the output\n",
    "* Apply [TensorFlow's Dropout](https://www.tensorflow.org/api_docs/python/tf/nn/dropout) to one or more layers in the model using `keep_prob`. "
   ]
  },
  {
   "cell_type": "code",
   "execution_count": 68,
   "metadata": {},
   "outputs": [
    {
     "name": "stdout",
     "output_type": "stream",
     "text": [
      "Neural Network Built!\n"
     ]
    }
   ],
   "source": [
    "def conv_net(x, keep_prob):\n",
    "    \"\"\"\n",
    "    Create a convolutional neural network model\n",
    "    : x: Placeholder tensor that holds image data.\n",
    "    : keep_prob: Placeholder tensor that hold dropout keep probability.\n",
    "    : return: Tensor that represents logits\n",
    "    \"\"\"\n",
    "    # TODO: Apply 1, 2, or 3 Convolution and Max Pool layers\n",
    "    #    Play around with different number of outputs, kernel size and stride\n",
    "    # Function Definition from Above:\n",
    "    #    conv2d_maxpool(x_tensor, conv_num_outputs, conv_ksize, conv_strides, pool_ksize, pool_strides)\n",
    "    \n",
    "  \n",
    "    ## Conv Layer 1 ##\n",
    "    \n",
    "    x2 = conv2d_maxpool(x, conv_num_outputs=10, conv_ksize = (5,5), conv_strides = (1,1), pool_ksize = (2,2), pool_strides = (1,1))\n",
    "    \n",
    "    ## drop out for convolution layer\n",
    "    x2 = tf.nn.dropout(x2, keep_prob)\n",
    "    \n",
    "    ## Conv Layer 2 ##\n",
    "    \n",
    "    x2 = conv2d_maxpool(x2, conv_num_outputs=25, conv_ksize = (5,5), conv_strides = (1,1), pool_ksize = (2,2), pool_strides = (1,1))\n",
    "    \n",
    "    ## drop out for convolution layer\n",
    "    x2 = tf.nn.dropout(x2, keep_prob)\n",
    "    \n",
    "    ## Conv Layer 3 ##\n",
    "    \n",
    "    #x2 = conv2d_maxpool(x2, conv_num_outputs=55, conv_ksize = (5,5), conv_strides = (1,1), pool_ksize = (2,2), pool_strides = (2,2))\n",
    "    \n",
    "    ## drop out for convolution layer\n",
    "    #x2 = tf.nn.dropout(x2, keep_prob)\n",
    "\n",
    "    # TODO: Apply a Flatten Layer\n",
    "    # Function Definition from Above:\n",
    "    #   flatten(x_tensor)\n",
    "    \n",
    "    x2 = flatten(x2)\n",
    "    \n",
    "\n",
    "    # TODO: Apply 1, 2, or 3 Fully Connected Layers\n",
    "    #    Play around with different number of outputs\n",
    "    # Function Definition from Above:\n",
    "    #   fully_conn(x_tensor, num_outputs)\n",
    "    \n",
    "    x2 = fully_conn(x2, 64)\n",
    "    \n",
    "    #x2 = tf.nn.dropout(x2, keep_prob)\n",
    "    \n",
    "    #x2 = fully_conn(x2, 120)\n",
    "    \n",
    "    #x2 = tf.nn.dropout(x2, keep_prob)\n",
    "    \n",
    "    #x2 = fully_conn(x2, 120)\n",
    "    \n",
    "    # TODO: Apply an Output Layer\n",
    "    #    Set this to the number of classes\n",
    "    # Function Definition from Above:\n",
    "    #   output(x_tensor, num_outputs)\n",
    "    \n",
    "    placeholder2 = tf.get_default_graph().get_tensor_by_name('y:0')\n",
    "    num_classes = int(placeholder2.shape[1])\n",
    "\n",
    "    result = output(x2, num_classes)\n",
    "    \n",
    "    return result\n",
    "\n",
    "\n",
    "\n",
    "\"\"\"\n",
    "DON'T MODIFY ANYTHING IN THIS CELL THAT IS BELOW THIS LINE\n",
    "\"\"\"\n",
    "\n",
    "##############################\n",
    "## Build the Neural Network ##\n",
    "##############################\n",
    "\n",
    "# Remove previous weights, bias, inputs, etc..\n",
    "tf.reset_default_graph()\n",
    "\n",
    "# Inputs\n",
    "x = neural_net_image_input((32, 32, 3))\n",
    "y = neural_net_label_input(10)\n",
    "keep_prob = neural_net_keep_prob_input()\n",
    "\n",
    "# Model\n",
    "logits = conv_net(x, keep_prob)\n",
    "\n",
    "# Name logits Tensor, so that is can be loaded from disk after training\n",
    "logits = tf.identity(logits, name='logits')\n",
    "\n",
    "# Loss and Optimizer\n",
    "cost = tf.reduce_mean(tf.nn.softmax_cross_entropy_with_logits(logits=logits, labels=y))\n",
    "optimizer = tf.train.AdamOptimizer().minimize(cost)\n",
    "\n",
    "# Accuracy\n",
    "correct_pred = tf.equal(tf.argmax(logits, 1), tf.argmax(y, 1))\n",
    "accuracy = tf.reduce_mean(tf.cast(correct_pred, tf.float32), name='accuracy')\n",
    "\n",
    "tests.test_conv_net(conv_net)"
   ]
  },
  {
   "cell_type": "markdown",
   "metadata": {},
   "source": [
    "## Train the Neural Network\n",
    "### Single Optimization\n",
    "Implement the function `train_neural_network` to do a single optimization.  The optimization should use `optimizer` to optimize in `session` with a `feed_dict` of the following:\n",
    "* `x` for image input\n",
    "* `y` for labels\n",
    "* `keep_prob` for keep probability for dropout\n",
    "\n",
    "This function will be called for each batch, so `tf.global_variables_initializer()` has already been called.\n",
    "\n",
    "Note: Nothing needs to be returned. This function is only optimizing the neural network."
   ]
  },
  {
   "cell_type": "code",
   "execution_count": 69,
   "metadata": {},
   "outputs": [
    {
     "name": "stdout",
     "output_type": "stream",
     "text": [
      "Tests Passed\n"
     ]
    }
   ],
   "source": [
    "def train_neural_network(session, optimizer, keep_probability, feature_batch, label_batch):\n",
    "    \"\"\"\n",
    "    Optimize the session on a batch of images and labels\n",
    "    : session: Current TensorFlow session\n",
    "    : optimizer: TensorFlow optimizer function\n",
    "    : keep_probability: keep probability\n",
    "    : feature_batch: Batch of Numpy image data\n",
    "    : label_batch: Batch of Numpy label data\n",
    "    \"\"\"\n",
    "    session.run(optimizer, feed_dict={\n",
    "                x: feature_batch,\n",
    "                y: label_batch,\n",
    "                keep_prob: keep_probability})\n",
    "\n",
    "\n",
    "\"\"\"\n",
    "DON'T MODIFY ANYTHING IN THIS CELL THAT IS BELOW THIS LINE\n",
    "\"\"\"\n",
    "tests.test_train_nn(train_neural_network)"
   ]
  },
  {
   "cell_type": "markdown",
   "metadata": {},
   "source": [
    "### Show Stats\n",
    "Implement the function `print_stats` to print loss and validation accuracy.  Use the global variables `valid_features` and `valid_labels` to calculate validation accuracy.  Use a keep probability of `1.0` to calculate the loss and validation accuracy."
   ]
  },
  {
   "cell_type": "code",
   "execution_count": 70,
   "metadata": {
    "collapsed": true
   },
   "outputs": [],
   "source": [
    "def print_stats(session, feature_batch, label_batch, cost, accuracy):\n",
    "    \"\"\"\n",
    "    Print information about loss and validation accuracy\n",
    "    : session: Current TensorFlow session\n",
    "    : feature_batch: Batch of Numpy image data\n",
    "    : label_batch: Batch of Numpy label data\n",
    "    : cost: TensorFlow cost function\n",
    "    : accuracy: TensorFlow accuracy function\n",
    "    \"\"\"\n",
    "    loss = session.run(cost, feed_dict={\n",
    "                x: feature_batch,\n",
    "                y: label_batch,\n",
    "                keep_prob: 1.})\n",
    "    \n",
    "    #print(valid_features.shape)\n",
    "    #print(feature_batch.shape)\n",
    "    \n",
    " \n",
    "    #batch_size = feature_batch.\n",
    "    valid_acc = session.run(accuracy, feed_dict={\n",
    "                x: valid_features,\n",
    "                y: valid_labels,\n",
    "                keep_prob: 1.})\n",
    "    \n",
    "    print('Loss: {:>10.4f} Validation Accuracy: {:.6f}'.format(\n",
    "                loss,\n",
    "                valid_acc))"
   ]
  },
  {
   "cell_type": "markdown",
   "metadata": {},
   "source": [
    "### Hyperparameters\n",
    "Tune the following parameters:\n",
    "* Set `epochs` to the number of iterations until the network stops learning or start overfitting\n",
    "* Set `batch_size` to the highest number that your machine has memory for.  Most people set them to common sizes of memory:\n",
    " * 64\n",
    " * 128\n",
    " * 256\n",
    " * ...\n",
    "* Set `keep_probability` to the probability of keeping a node using dropout"
   ]
  },
  {
   "cell_type": "code",
   "execution_count": 73,
   "metadata": {
    "collapsed": true
   },
   "outputs": [],
   "source": [
    "# TODO: Tune Parameters\n",
    "epochs = 60\n",
    "batch_size = 64\n",
    "keep_probability = .4"
   ]
  },
  {
   "cell_type": "markdown",
   "metadata": {},
   "source": [
    "### Train on a Single CIFAR-10 Batch\n",
    "Instead of training the neural network on all the CIFAR-10 batches of data, let's use a single batch. This should save time while you iterate on the model to get a better accuracy.  Once the final validation accuracy is 50% or greater, run the model on all the data in the next section."
   ]
  },
  {
   "cell_type": "code",
   "execution_count": 74,
   "metadata": {},
   "outputs": [
    {
     "name": "stdout",
     "output_type": "stream",
     "text": [
      "Checking the Training on a Single Batch...\n",
      "Epoch  1, CIFAR-10 Batch 1:  Loss:     2.1993 Validation Accuracy: 0.261400\n",
      "Epoch  2, CIFAR-10 Batch 1:  Loss:     2.0177 Validation Accuracy: 0.371000\n",
      "Epoch  3, CIFAR-10 Batch 1:  Loss:     1.8588 Validation Accuracy: 0.412000\n",
      "Epoch  4, CIFAR-10 Batch 1:  Loss:     1.7867 Validation Accuracy: 0.455200\n",
      "Epoch  5, CIFAR-10 Batch 1:  Loss:     1.6572 Validation Accuracy: 0.482800\n",
      "Epoch  6, CIFAR-10 Batch 1:  Loss:     1.5888 Validation Accuracy: 0.493800\n",
      "Epoch  7, CIFAR-10 Batch 1:  Loss:     1.4538 Validation Accuracy: 0.512200\n",
      "Epoch  8, CIFAR-10 Batch 1:  Loss:     1.3737 Validation Accuracy: 0.524000\n",
      "Epoch  9, CIFAR-10 Batch 1:  Loss:     1.3297 Validation Accuracy: 0.526600\n",
      "Epoch 10, CIFAR-10 Batch 1:  Loss:     1.3075 Validation Accuracy: 0.520600\n",
      "Epoch 11, CIFAR-10 Batch 1:  Loss:     1.2405 Validation Accuracy: 0.529600\n",
      "Epoch 12, CIFAR-10 Batch 1:  Loss:     1.1354 Validation Accuracy: 0.541400\n",
      "Epoch 13, CIFAR-10 Batch 1:  Loss:     1.1517 Validation Accuracy: 0.535800\n",
      "Epoch 14, CIFAR-10 Batch 1:  Loss:     1.0774 Validation Accuracy: 0.540800\n",
      "Epoch 15, CIFAR-10 Batch 1:  Loss:     1.0300 Validation Accuracy: 0.543200\n",
      "Epoch 16, CIFAR-10 Batch 1:  Loss:     1.0177 Validation Accuracy: 0.539400\n",
      "Epoch 17, CIFAR-10 Batch 1:  Loss:     0.9829 Validation Accuracy: 0.536600\n",
      "Epoch 18, CIFAR-10 Batch 1:  Loss:     1.0033 Validation Accuracy: 0.535600\n",
      "Epoch 19, CIFAR-10 Batch 1:  Loss:     0.9772 Validation Accuracy: 0.530400\n",
      "Epoch 20, CIFAR-10 Batch 1:  Loss:     0.9655 Validation Accuracy: 0.532800\n",
      "Epoch 21, CIFAR-10 Batch 1:  Loss:     0.9044 Validation Accuracy: 0.527200\n",
      "Epoch 22, CIFAR-10 Batch 1:  Loss:     0.8817 Validation Accuracy: 0.543000\n",
      "Epoch 23, CIFAR-10 Batch 1:  Loss:     0.9199 Validation Accuracy: 0.532200\n",
      "Epoch 24, CIFAR-10 Batch 1:  Loss:     0.8144 Validation Accuracy: 0.523400\n",
      "Epoch 25, CIFAR-10 Batch 1:  Loss:     0.8613 Validation Accuracy: 0.506800\n",
      "Epoch 26, CIFAR-10 Batch 1:  Loss:     0.8111 Validation Accuracy: 0.530600\n",
      "Epoch 27, CIFAR-10 Batch 1:  Loss:     0.8187 Validation Accuracy: 0.517200\n",
      "Epoch 28, CIFAR-10 Batch 1:  Loss:     0.8341 Validation Accuracy: 0.529400\n",
      "Epoch 29, CIFAR-10 Batch 1:  Loss:     0.7847 Validation Accuracy: 0.532600\n",
      "Epoch 30, CIFAR-10 Batch 1:  Loss:     0.7655 Validation Accuracy: 0.529000\n",
      "Epoch 31, CIFAR-10 Batch 1:  Loss:     0.7381 Validation Accuracy: 0.529200\n",
      "Epoch 32, CIFAR-10 Batch 1:  Loss:     0.6640 Validation Accuracy: 0.539800\n",
      "Epoch 33, CIFAR-10 Batch 1:  Loss:     0.6419 Validation Accuracy: 0.534200\n",
      "Epoch 34, CIFAR-10 Batch 1:  Loss:     0.6146 Validation Accuracy: 0.548400\n",
      "Epoch 35, CIFAR-10 Batch 1:  Loss:     0.6301 Validation Accuracy: 0.527800\n",
      "Epoch 36, CIFAR-10 Batch 1:  Loss:     0.6716 Validation Accuracy: 0.524800\n",
      "Epoch 37, CIFAR-10 Batch 1:  Loss:     0.6231 Validation Accuracy: 0.536400\n",
      "Epoch 38, CIFAR-10 Batch 1:  Loss:     0.6389 Validation Accuracy: 0.517000\n",
      "Epoch 39, CIFAR-10 Batch 1:  Loss:     0.4998 Validation Accuracy: 0.532000\n",
      "Epoch 40, CIFAR-10 Batch 1:  Loss:     0.5775 Validation Accuracy: 0.525600\n",
      "Epoch 41, CIFAR-10 Batch 1:  Loss:     0.6211 Validation Accuracy: 0.515600\n",
      "Epoch 42, CIFAR-10 Batch 1:  Loss:     0.6157 Validation Accuracy: 0.512000\n",
      "Epoch 43, CIFAR-10 Batch 1:  Loss:     0.6060 Validation Accuracy: 0.518200\n",
      "Epoch 44, CIFAR-10 Batch 1:  Loss:     0.5137 Validation Accuracy: 0.521000\n",
      "Epoch 45, CIFAR-10 Batch 1:  Loss:     0.5721 Validation Accuracy: 0.508200\n",
      "Epoch 46, CIFAR-10 Batch 1:  Loss:     0.5378 Validation Accuracy: 0.524200\n",
      "Epoch 47, CIFAR-10 Batch 1:  Loss:     0.5719 Validation Accuracy: 0.502400\n",
      "Epoch 48, CIFAR-10 Batch 1:  Loss:     0.5974 Validation Accuracy: 0.508200\n",
      "Epoch 49, CIFAR-10 Batch 1:  Loss:     0.5702 Validation Accuracy: 0.497200\n",
      "Epoch 50, CIFAR-10 Batch 1:  Loss:     0.5117 Validation Accuracy: 0.516200\n",
      "Epoch 51, CIFAR-10 Batch 1:  Loss:     0.5596 Validation Accuracy: 0.516800\n",
      "Epoch 52, CIFAR-10 Batch 1:  Loss:     0.5181 Validation Accuracy: 0.505000\n",
      "Epoch 53, CIFAR-10 Batch 1:  Loss:     0.4432 Validation Accuracy: 0.515800\n",
      "Epoch 54, CIFAR-10 Batch 1:  Loss:     0.4935 Validation Accuracy: 0.505000\n",
      "Epoch 55, CIFAR-10 Batch 1:  Loss:     0.4287 Validation Accuracy: 0.515800\n",
      "Epoch 56, CIFAR-10 Batch 1:  Loss:     0.4509 Validation Accuracy: 0.514800\n",
      "Epoch 57, CIFAR-10 Batch 1:  Loss:     0.4662 Validation Accuracy: 0.500400\n",
      "Epoch 58, CIFAR-10 Batch 1:  Loss:     0.4303 Validation Accuracy: 0.504400\n",
      "Epoch 59, CIFAR-10 Batch 1:  Loss:     0.4406 Validation Accuracy: 0.510400\n",
      "Epoch 60, CIFAR-10 Batch 1:  Loss:     0.4070 Validation Accuracy: 0.512000\n"
     ]
    }
   ],
   "source": [
    "\"\"\"\n",
    "DON'T MODIFY ANYTHING IN THIS CELL\n",
    "\"\"\"\n",
    "print('Checking the Training on a Single Batch...')\n",
    "with tf.Session() as sess:\n",
    "    # Initializing the variables\n",
    "    sess.run(tf.global_variables_initializer())\n",
    "    \n",
    "    # Training cycle\n",
    "    for epoch in range(epochs):\n",
    "        batch_i = 1\n",
    "        for batch_features, batch_labels in helper.load_preprocess_training_batch(batch_i, batch_size):\n",
    "            train_neural_network(sess, optimizer, keep_probability, batch_features, batch_labels)\n",
    "        print('Epoch {:>2}, CIFAR-10 Batch {}:  '.format(epoch + 1, batch_i), end='')\n",
    "        print_stats(sess, batch_features, batch_labels, cost, accuracy)"
   ]
  },
  {
   "cell_type": "markdown",
   "metadata": {},
   "source": [
    "### Fully Train the Model\n",
    "Now that you got a good accuracy with a single CIFAR-10 batch, try it with all five batches."
   ]
  },
  {
   "cell_type": "code",
   "execution_count": 75,
   "metadata": {},
   "outputs": [
    {
     "name": "stdout",
     "output_type": "stream",
     "text": [
      "Training...\n",
      "Epoch  1, CIFAR-10 Batch 1:  Loss:     1.9407 Validation Accuracy: 0.357400\n",
      "Epoch  1, CIFAR-10 Batch 2:  Loss:     1.5522 Validation Accuracy: 0.417400\n",
      "Epoch  1, CIFAR-10 Batch 3:  Loss:     1.3547 Validation Accuracy: 0.426800\n",
      "Epoch  1, CIFAR-10 Batch 4:  Loss:     1.5197 Validation Accuracy: 0.452200\n",
      "Epoch  1, CIFAR-10 Batch 5:  Loss:     1.5844 Validation Accuracy: 0.470000\n",
      "Epoch  2, CIFAR-10 Batch 1:  Loss:     1.6952 Validation Accuracy: 0.487600\n",
      "Epoch  2, CIFAR-10 Batch 2:  Loss:     1.2358 Validation Accuracy: 0.506800\n",
      "Epoch  2, CIFAR-10 Batch 3:  Loss:     1.1205 Validation Accuracy: 0.520400\n",
      "Epoch  2, CIFAR-10 Batch 4:  Loss:     1.3621 Validation Accuracy: 0.504600\n",
      "Epoch  2, CIFAR-10 Batch 5:  Loss:     1.3970 Validation Accuracy: 0.531600\n",
      "Epoch  3, CIFAR-10 Batch 1:  Loss:     1.4299 Validation Accuracy: 0.551200\n",
      "Epoch  3, CIFAR-10 Batch 2:  Loss:     1.3159 Validation Accuracy: 0.510600\n",
      "Epoch  3, CIFAR-10 Batch 3:  Loss:     0.9780 Validation Accuracy: 0.556800\n",
      "Epoch  3, CIFAR-10 Batch 4:  Loss:     1.2488 Validation Accuracy: 0.546200\n",
      "Epoch  3, CIFAR-10 Batch 5:  Loss:     1.2047 Validation Accuracy: 0.563200\n",
      "Epoch  4, CIFAR-10 Batch 1:  Loss:     1.2952 Validation Accuracy: 0.586800\n",
      "Epoch  4, CIFAR-10 Batch 2:  Loss:     1.1824 Validation Accuracy: 0.569400\n",
      "Epoch  4, CIFAR-10 Batch 3:  Loss:     0.8815 Validation Accuracy: 0.592800\n",
      "Epoch  4, CIFAR-10 Batch 4:  Loss:     1.2441 Validation Accuracy: 0.551400\n",
      "Epoch  4, CIFAR-10 Batch 5:  Loss:     1.1089 Validation Accuracy: 0.584800\n",
      "Epoch  5, CIFAR-10 Batch 1:  Loss:     1.2213 Validation Accuracy: 0.597600\n",
      "Epoch  5, CIFAR-10 Batch 2:  Loss:     1.1023 Validation Accuracy: 0.572400\n",
      "Epoch  5, CIFAR-10 Batch 3:  Loss:     0.8725 Validation Accuracy: 0.589800\n",
      "Epoch  5, CIFAR-10 Batch 4:  Loss:     1.1435 Validation Accuracy: 0.595800\n",
      "Epoch  5, CIFAR-10 Batch 5:  Loss:     1.0118 Validation Accuracy: 0.601200\n",
      "Epoch  6, CIFAR-10 Batch 1:  Loss:     1.1642 Validation Accuracy: 0.613000\n",
      "Epoch  6, CIFAR-10 Batch 2:  Loss:     1.0494 Validation Accuracy: 0.589600\n",
      "Epoch  6, CIFAR-10 Batch 3:  Loss:     0.8696 Validation Accuracy: 0.589200\n",
      "Epoch  6, CIFAR-10 Batch 4:  Loss:     1.0991 Validation Accuracy: 0.607600\n",
      "Epoch  6, CIFAR-10 Batch 5:  Loss:     1.0115 Validation Accuracy: 0.566400\n",
      "Epoch  7, CIFAR-10 Batch 1:  Loss:     1.0739 Validation Accuracy: 0.617000\n",
      "Epoch  7, CIFAR-10 Batch 2:  Loss:     0.9937 Validation Accuracy: 0.603000\n",
      "Epoch  7, CIFAR-10 Batch 3:  Loss:     0.8858 Validation Accuracy: 0.588400\n",
      "Epoch  7, CIFAR-10 Batch 4:  Loss:     1.1748 Validation Accuracy: 0.599200\n",
      "Epoch  7, CIFAR-10 Batch 5:  Loss:     1.0593 Validation Accuracy: 0.595200\n",
      "Epoch  8, CIFAR-10 Batch 1:  Loss:     1.1056 Validation Accuracy: 0.618800\n",
      "Epoch  8, CIFAR-10 Batch 2:  Loss:     0.9877 Validation Accuracy: 0.598800\n",
      "Epoch  8, CIFAR-10 Batch 3:  Loss:     0.8668 Validation Accuracy: 0.601400\n",
      "Epoch  8, CIFAR-10 Batch 4:  Loss:     1.1614 Validation Accuracy: 0.591400\n",
      "Epoch  8, CIFAR-10 Batch 5:  Loss:     1.0858 Validation Accuracy: 0.580400\n",
      "Epoch  9, CIFAR-10 Batch 1:  Loss:     1.0397 Validation Accuracy: 0.633600\n",
      "Epoch  9, CIFAR-10 Batch 2:  Loss:     0.9936 Validation Accuracy: 0.603400\n",
      "Epoch  9, CIFAR-10 Batch 3:  Loss:     0.8228 Validation Accuracy: 0.610400\n",
      "Epoch  9, CIFAR-10 Batch 4:  Loss:     1.0602 Validation Accuracy: 0.613000\n",
      "Epoch  9, CIFAR-10 Batch 5:  Loss:     0.9660 Validation Accuracy: 0.593600\n",
      "Epoch 10, CIFAR-10 Batch 1:  Loss:     1.0062 Validation Accuracy: 0.630200\n",
      "Epoch 10, CIFAR-10 Batch 2:  Loss:     0.9751 Validation Accuracy: 0.606200\n",
      "Epoch 10, CIFAR-10 Batch 3:  Loss:     0.7938 Validation Accuracy: 0.623000\n",
      "Epoch 10, CIFAR-10 Batch 4:  Loss:     1.0517 Validation Accuracy: 0.612200\n",
      "Epoch 10, CIFAR-10 Batch 5:  Loss:     0.9829 Validation Accuracy: 0.605800\n",
      "Epoch 11, CIFAR-10 Batch 1:  Loss:     1.0152 Validation Accuracy: 0.623200\n",
      "Epoch 11, CIFAR-10 Batch 2:  Loss:     1.0100 Validation Accuracy: 0.604200\n",
      "Epoch 11, CIFAR-10 Batch 3:  Loss:     0.7754 Validation Accuracy: 0.620600\n",
      "Epoch 11, CIFAR-10 Batch 4:  Loss:     1.0005 Validation Accuracy: 0.627800\n",
      "Epoch 11, CIFAR-10 Batch 5:  Loss:     0.9915 Validation Accuracy: 0.609800\n",
      "Epoch 12, CIFAR-10 Batch 1:  Loss:     1.0052 Validation Accuracy: 0.638200\n",
      "Epoch 12, CIFAR-10 Batch 2:  Loss:     0.8847 Validation Accuracy: 0.615400\n",
      "Epoch 12, CIFAR-10 Batch 3:  Loss:     0.7218 Validation Accuracy: 0.621600\n",
      "Epoch 12, CIFAR-10 Batch 4:  Loss:     1.0451 Validation Accuracy: 0.613200\n",
      "Epoch 12, CIFAR-10 Batch 5:  Loss:     0.9346 Validation Accuracy: 0.602800\n",
      "Epoch 13, CIFAR-10 Batch 1:  Loss:     1.0154 Validation Accuracy: 0.631200\n",
      "Epoch 13, CIFAR-10 Batch 2:  Loss:     0.8920 Validation Accuracy: 0.613200\n",
      "Epoch 13, CIFAR-10 Batch 3:  Loss:     0.7474 Validation Accuracy: 0.623200\n",
      "Epoch 13, CIFAR-10 Batch 4:  Loss:     0.9706 Validation Accuracy: 0.619600\n",
      "Epoch 13, CIFAR-10 Batch 5:  Loss:     0.9823 Validation Accuracy: 0.583600\n",
      "Epoch 14, CIFAR-10 Batch 1:  Loss:     0.9050 Validation Accuracy: 0.647000\n",
      "Epoch 14, CIFAR-10 Batch 2:  Loss:     0.9571 Validation Accuracy: 0.610600\n",
      "Epoch 14, CIFAR-10 Batch 3:  Loss:     0.7797 Validation Accuracy: 0.618800\n",
      "Epoch 14, CIFAR-10 Batch 4:  Loss:     1.0402 Validation Accuracy: 0.611800\n",
      "Epoch 14, CIFAR-10 Batch 5:  Loss:     0.8797 Validation Accuracy: 0.620000\n",
      "Epoch 15, CIFAR-10 Batch 1:  Loss:     0.9186 Validation Accuracy: 0.631000\n",
      "Epoch 15, CIFAR-10 Batch 2:  Loss:     0.8448 Validation Accuracy: 0.611800\n",
      "Epoch 15, CIFAR-10 Batch 3:  Loss:     0.7211 Validation Accuracy: 0.621600\n",
      "Epoch 15, CIFAR-10 Batch 4:  Loss:     0.9745 Validation Accuracy: 0.615200\n",
      "Epoch 15, CIFAR-10 Batch 5:  Loss:     1.0119 Validation Accuracy: 0.611400\n",
      "Epoch 16, CIFAR-10 Batch 1:  Loss:     0.8647 Validation Accuracy: 0.628800\n",
      "Epoch 16, CIFAR-10 Batch 2:  Loss:     0.8504 Validation Accuracy: 0.602800\n",
      "Epoch 16, CIFAR-10 Batch 3:  Loss:     0.6205 Validation Accuracy: 0.625400\n",
      "Epoch 16, CIFAR-10 Batch 4:  Loss:     0.9571 Validation Accuracy: 0.622200\n",
      "Epoch 16, CIFAR-10 Batch 5:  Loss:     1.0176 Validation Accuracy: 0.590600\n",
      "Epoch 17, CIFAR-10 Batch 1:  Loss:     0.8304 Validation Accuracy: 0.633000\n",
      "Epoch 17, CIFAR-10 Batch 2:  Loss:     0.9072 Validation Accuracy: 0.598600\n",
      "Epoch 17, CIFAR-10 Batch 3:  Loss:     0.6481 Validation Accuracy: 0.633600\n",
      "Epoch 17, CIFAR-10 Batch 4:  Loss:     0.9709 Validation Accuracy: 0.629400\n",
      "Epoch 17, CIFAR-10 Batch 5:  Loss:     0.8670 Validation Accuracy: 0.622400\n",
      "Epoch 18, CIFAR-10 Batch 1:  Loss:     0.9243 Validation Accuracy: 0.633800\n",
      "Epoch 18, CIFAR-10 Batch 2:  Loss:     0.8572 Validation Accuracy: 0.616000\n",
      "Epoch 18, CIFAR-10 Batch 3:  Loss:     0.7310 Validation Accuracy: 0.622600\n",
      "Epoch 18, CIFAR-10 Batch 4:  Loss:     0.8904 Validation Accuracy: 0.632400\n",
      "Epoch 18, CIFAR-10 Batch 5:  Loss:     0.8216 Validation Accuracy: 0.634800\n",
      "Epoch 19, CIFAR-10 Batch 1:  Loss:     0.9604 Validation Accuracy: 0.621200\n",
      "Epoch 19, CIFAR-10 Batch 2:  Loss:     0.8256 Validation Accuracy: 0.626200\n",
      "Epoch 19, CIFAR-10 Batch 3:  Loss:     0.6612 Validation Accuracy: 0.633000\n",
      "Epoch 19, CIFAR-10 Batch 4:  Loss:     0.9825 Validation Accuracy: 0.609400\n",
      "Epoch 19, CIFAR-10 Batch 5:  Loss:     0.8408 Validation Accuracy: 0.617200\n",
      "Epoch 20, CIFAR-10 Batch 1:  Loss:     0.8250 Validation Accuracy: 0.642600\n",
      "Epoch 20, CIFAR-10 Batch 2:  Loss:     0.8203 Validation Accuracy: 0.611000\n",
      "Epoch 20, CIFAR-10 Batch 3:  Loss:     0.6797 Validation Accuracy: 0.619600\n",
      "Epoch 20, CIFAR-10 Batch 4:  Loss:     0.9290 Validation Accuracy: 0.613800\n",
      "Epoch 20, CIFAR-10 Batch 5:  Loss:     0.8108 Validation Accuracy: 0.630400\n",
      "Epoch 21, CIFAR-10 Batch 1:  Loss:     0.8952 Validation Accuracy: 0.637600\n",
      "Epoch 21, CIFAR-10 Batch 2:  Loss:     0.8200 Validation Accuracy: 0.633800\n",
      "Epoch 21, CIFAR-10 Batch 3:  Loss:     0.6732 Validation Accuracy: 0.626200\n",
      "Epoch 21, CIFAR-10 Batch 4:  Loss:     0.8839 Validation Accuracy: 0.626400\n",
      "Epoch 21, CIFAR-10 Batch 5:  Loss:     0.9015 Validation Accuracy: 0.601200\n",
      "Epoch 22, CIFAR-10 Batch 1:  Loss:     0.8772 Validation Accuracy: 0.639800\n",
      "Epoch 22, CIFAR-10 Batch 2:  Loss:     0.7996 Validation Accuracy: 0.621800\n",
      "Epoch 22, CIFAR-10 Batch 3:  Loss:     0.7095 Validation Accuracy: 0.607600\n"
     ]
    },
    {
     "name": "stdout",
     "output_type": "stream",
     "text": [
      "Epoch 22, CIFAR-10 Batch 4:  Loss:     0.8242 Validation Accuracy: 0.621800\n",
      "Epoch 22, CIFAR-10 Batch 5:  Loss:     0.7805 Validation Accuracy: 0.631800\n",
      "Epoch 23, CIFAR-10 Batch 1:  Loss:     0.8429 Validation Accuracy: 0.630200\n",
      "Epoch 23, CIFAR-10 Batch 2:  Loss:     0.8775 Validation Accuracy: 0.611400\n",
      "Epoch 23, CIFAR-10 Batch 3:  Loss:     0.6602 Validation Accuracy: 0.629200\n",
      "Epoch 23, CIFAR-10 Batch 4:  Loss:     0.8632 Validation Accuracy: 0.630400\n",
      "Epoch 23, CIFAR-10 Batch 5:  Loss:     0.7747 Validation Accuracy: 0.628600\n",
      "Epoch 24, CIFAR-10 Batch 1:  Loss:     0.7890 Validation Accuracy: 0.641200\n",
      "Epoch 24, CIFAR-10 Batch 2:  Loss:     0.9334 Validation Accuracy: 0.615400\n",
      "Epoch 24, CIFAR-10 Batch 3:  Loss:     0.6774 Validation Accuracy: 0.616400\n",
      "Epoch 24, CIFAR-10 Batch 4:  Loss:     0.8055 Validation Accuracy: 0.628600\n",
      "Epoch 24, CIFAR-10 Batch 5:  Loss:     0.7958 Validation Accuracy: 0.634800\n",
      "Epoch 25, CIFAR-10 Batch 1:  Loss:     0.7852 Validation Accuracy: 0.638800\n",
      "Epoch 25, CIFAR-10 Batch 2:  Loss:     0.8058 Validation Accuracy: 0.623800\n",
      "Epoch 25, CIFAR-10 Batch 3:  Loss:     0.6617 Validation Accuracy: 0.634200\n",
      "Epoch 25, CIFAR-10 Batch 4:  Loss:     0.8543 Validation Accuracy: 0.617200\n",
      "Epoch 25, CIFAR-10 Batch 5:  Loss:     0.8483 Validation Accuracy: 0.608400\n",
      "Epoch 26, CIFAR-10 Batch 1:  Loss:     0.8021 Validation Accuracy: 0.633800\n",
      "Epoch 26, CIFAR-10 Batch 2:  Loss:     0.8024 Validation Accuracy: 0.633800\n",
      "Epoch 26, CIFAR-10 Batch 3:  Loss:     0.5624 Validation Accuracy: 0.641400\n",
      "Epoch 26, CIFAR-10 Batch 4:  Loss:     0.8578 Validation Accuracy: 0.609000\n",
      "Epoch 26, CIFAR-10 Batch 5:  Loss:     0.8224 Validation Accuracy: 0.607800\n",
      "Epoch 27, CIFAR-10 Batch 1:  Loss:     0.8108 Validation Accuracy: 0.629000\n",
      "Epoch 27, CIFAR-10 Batch 2:  Loss:     0.8287 Validation Accuracy: 0.626200\n",
      "Epoch 27, CIFAR-10 Batch 3:  Loss:     0.6022 Validation Accuracy: 0.626400\n",
      "Epoch 27, CIFAR-10 Batch 4:  Loss:     0.9951 Validation Accuracy: 0.588600\n",
      "Epoch 27, CIFAR-10 Batch 5:  Loss:     0.7819 Validation Accuracy: 0.630200\n",
      "Epoch 28, CIFAR-10 Batch 1:  Loss:     0.8760 Validation Accuracy: 0.620200\n",
      "Epoch 28, CIFAR-10 Batch 2:  Loss:     0.7717 Validation Accuracy: 0.626000\n",
      "Epoch 28, CIFAR-10 Batch 3:  Loss:     0.7534 Validation Accuracy: 0.595400\n",
      "Epoch 28, CIFAR-10 Batch 4:  Loss:     0.8613 Validation Accuracy: 0.609200\n",
      "Epoch 28, CIFAR-10 Batch 5:  Loss:     0.7562 Validation Accuracy: 0.632600\n",
      "Epoch 29, CIFAR-10 Batch 1:  Loss:     0.8202 Validation Accuracy: 0.625800\n",
      "Epoch 29, CIFAR-10 Batch 2:  Loss:     0.9075 Validation Accuracy: 0.587400\n",
      "Epoch 29, CIFAR-10 Batch 3:  Loss:     0.6898 Validation Accuracy: 0.611000\n",
      "Epoch 29, CIFAR-10 Batch 4:  Loss:     0.7923 Validation Accuracy: 0.620800\n",
      "Epoch 29, CIFAR-10 Batch 5:  Loss:     0.8348 Validation Accuracy: 0.623200\n",
      "Epoch 30, CIFAR-10 Batch 1:  Loss:     0.7591 Validation Accuracy: 0.623200\n",
      "Epoch 30, CIFAR-10 Batch 2:  Loss:     0.8361 Validation Accuracy: 0.632400\n",
      "Epoch 30, CIFAR-10 Batch 3:  Loss:     0.6786 Validation Accuracy: 0.609600\n",
      "Epoch 30, CIFAR-10 Batch 4:  Loss:     0.7477 Validation Accuracy: 0.626000\n",
      "Epoch 30, CIFAR-10 Batch 5:  Loss:     0.7498 Validation Accuracy: 0.626000\n",
      "Epoch 31, CIFAR-10 Batch 1:  Loss:     0.7652 Validation Accuracy: 0.642200\n",
      "Epoch 31, CIFAR-10 Batch 2:  Loss:     0.7871 Validation Accuracy: 0.630000\n",
      "Epoch 31, CIFAR-10 Batch 3:  Loss:     0.7361 Validation Accuracy: 0.615000\n",
      "Epoch 31, CIFAR-10 Batch 4:  Loss:     0.6955 Validation Accuracy: 0.630000\n",
      "Epoch 31, CIFAR-10 Batch 5:  Loss:     0.8088 Validation Accuracy: 0.609600\n",
      "Epoch 32, CIFAR-10 Batch 1:  Loss:     0.8035 Validation Accuracy: 0.605800\n",
      "Epoch 32, CIFAR-10 Batch 2:  Loss:     0.8278 Validation Accuracy: 0.629800\n",
      "Epoch 32, CIFAR-10 Batch 3:  Loss:     0.6907 Validation Accuracy: 0.619600\n",
      "Epoch 32, CIFAR-10 Batch 4:  Loss:     0.6856 Validation Accuracy: 0.630000\n",
      "Epoch 32, CIFAR-10 Batch 5:  Loss:     0.7602 Validation Accuracy: 0.620000\n",
      "Epoch 33, CIFAR-10 Batch 1:  Loss:     0.7716 Validation Accuracy: 0.632400\n",
      "Epoch 33, CIFAR-10 Batch 2:  Loss:     0.8884 Validation Accuracy: 0.625000\n",
      "Epoch 33, CIFAR-10 Batch 3:  Loss:     0.7016 Validation Accuracy: 0.617200\n",
      "Epoch 33, CIFAR-10 Batch 4:  Loss:     0.7803 Validation Accuracy: 0.616600\n",
      "Epoch 33, CIFAR-10 Batch 5:  Loss:     0.7274 Validation Accuracy: 0.630200\n",
      "Epoch 34, CIFAR-10 Batch 1:  Loss:     0.7307 Validation Accuracy: 0.622400\n",
      "Epoch 34, CIFAR-10 Batch 2:  Loss:     0.7890 Validation Accuracy: 0.629800\n",
      "Epoch 34, CIFAR-10 Batch 3:  Loss:     0.6317 Validation Accuracy: 0.612800\n",
      "Epoch 34, CIFAR-10 Batch 4:  Loss:     0.7286 Validation Accuracy: 0.634200\n",
      "Epoch 34, CIFAR-10 Batch 5:  Loss:     0.7288 Validation Accuracy: 0.617400\n",
      "Epoch 35, CIFAR-10 Batch 1:  Loss:     0.7196 Validation Accuracy: 0.632600\n",
      "Epoch 35, CIFAR-10 Batch 2:  Loss:     0.8664 Validation Accuracy: 0.614000\n",
      "Epoch 35, CIFAR-10 Batch 3:  Loss:     0.6142 Validation Accuracy: 0.622600\n",
      "Epoch 35, CIFAR-10 Batch 4:  Loss:     0.8044 Validation Accuracy: 0.611000\n",
      "Epoch 35, CIFAR-10 Batch 5:  Loss:     0.6741 Validation Accuracy: 0.631800\n",
      "Epoch 36, CIFAR-10 Batch 1:  Loss:     0.7433 Validation Accuracy: 0.619800\n",
      "Epoch 36, CIFAR-10 Batch 2:  Loss:     0.7451 Validation Accuracy: 0.635800\n",
      "Epoch 36, CIFAR-10 Batch 3:  Loss:     0.6677 Validation Accuracy: 0.623000\n",
      "Epoch 36, CIFAR-10 Batch 4:  Loss:     0.8319 Validation Accuracy: 0.600200\n",
      "Epoch 36, CIFAR-10 Batch 5:  Loss:     0.6609 Validation Accuracy: 0.627000\n",
      "Epoch 37, CIFAR-10 Batch 1:  Loss:     0.7842 Validation Accuracy: 0.605800\n",
      "Epoch 37, CIFAR-10 Batch 2:  Loss:     0.8143 Validation Accuracy: 0.625800\n",
      "Epoch 37, CIFAR-10 Batch 3:  Loss:     0.6418 Validation Accuracy: 0.613800\n",
      "Epoch 37, CIFAR-10 Batch 4:  Loss:     0.7909 Validation Accuracy: 0.615600\n",
      "Epoch 37, CIFAR-10 Batch 5:  Loss:     0.6560 Validation Accuracy: 0.634200\n",
      "Epoch 38, CIFAR-10 Batch 1:  Loss:     0.6530 Validation Accuracy: 0.632800\n",
      "Epoch 38, CIFAR-10 Batch 2:  Loss:     0.7723 Validation Accuracy: 0.634200\n",
      "Epoch 38, CIFAR-10 Batch 3:  Loss:     0.6376 Validation Accuracy: 0.614600\n",
      "Epoch 38, CIFAR-10 Batch 4:  Loss:     0.6836 Validation Accuracy: 0.637800\n",
      "Epoch 38, CIFAR-10 Batch 5:  Loss:     0.6406 Validation Accuracy: 0.641800\n",
      "Epoch 39, CIFAR-10 Batch 1:  Loss:     0.7849 Validation Accuracy: 0.627800\n",
      "Epoch 39, CIFAR-10 Batch 2:  Loss:     0.7869 Validation Accuracy: 0.633400\n",
      "Epoch 39, CIFAR-10 Batch 3:  Loss:     0.6285 Validation Accuracy: 0.610800\n",
      "Epoch 39, CIFAR-10 Batch 4:  Loss:     0.7206 Validation Accuracy: 0.626000\n",
      "Epoch 39, CIFAR-10 Batch 5:  Loss:     0.8326 Validation Accuracy: 0.607000\n",
      "Epoch 40, CIFAR-10 Batch 1:  Loss:     0.6924 Validation Accuracy: 0.630000\n",
      "Epoch 40, CIFAR-10 Batch 2:  Loss:     0.8266 Validation Accuracy: 0.631800\n",
      "Epoch 40, CIFAR-10 Batch 3:  Loss:     0.5999 Validation Accuracy: 0.628000\n",
      "Epoch 40, CIFAR-10 Batch 4:  Loss:     0.6643 Validation Accuracy: 0.630400\n",
      "Epoch 40, CIFAR-10 Batch 5:  Loss:     0.6576 Validation Accuracy: 0.646400\n",
      "Epoch 41, CIFAR-10 Batch 1:  Loss:     0.7287 Validation Accuracy: 0.616000\n",
      "Epoch 41, CIFAR-10 Batch 2:  Loss:     0.7904 Validation Accuracy: 0.623600\n",
      "Epoch 41, CIFAR-10 Batch 3:  Loss:     0.7458 Validation Accuracy: 0.609600\n",
      "Epoch 41, CIFAR-10 Batch 4:  Loss:     0.9048 Validation Accuracy: 0.607800\n",
      "Epoch 41, CIFAR-10 Batch 5:  Loss:     0.6274 Validation Accuracy: 0.635400\n",
      "Epoch 42, CIFAR-10 Batch 1:  Loss:     0.7489 Validation Accuracy: 0.618200\n",
      "Epoch 42, CIFAR-10 Batch 2:  Loss:     0.8748 Validation Accuracy: 0.619800\n",
      "Epoch 42, CIFAR-10 Batch 3:  Loss:     0.6622 Validation Accuracy: 0.614400\n",
      "Epoch 42, CIFAR-10 Batch 4:  Loss:     0.7171 Validation Accuracy: 0.626800\n",
      "Epoch 42, CIFAR-10 Batch 5:  Loss:     0.6884 Validation Accuracy: 0.623400\n",
      "Epoch 43, CIFAR-10 Batch 1:  Loss:     0.7029 Validation Accuracy: 0.609200\n",
      "Epoch 43, CIFAR-10 Batch 2:  Loss:     0.7233 Validation Accuracy: 0.639400\n",
      "Epoch 43, CIFAR-10 Batch 3:  Loss:     0.6800 Validation Accuracy: 0.619800\n",
      "Epoch 43, CIFAR-10 Batch 4:  Loss:     0.7516 Validation Accuracy: 0.598600\n",
      "Epoch 43, CIFAR-10 Batch 5:  Loss:     0.6073 Validation Accuracy: 0.640800\n",
      "Epoch 44, CIFAR-10 Batch 1:  Loss:     0.7329 Validation Accuracy: 0.606800\n"
     ]
    },
    {
     "name": "stdout",
     "output_type": "stream",
     "text": [
      "Epoch 44, CIFAR-10 Batch 2:  Loss:     0.8578 Validation Accuracy: 0.606400\n",
      "Epoch 44, CIFAR-10 Batch 3:  Loss:     0.6084 Validation Accuracy: 0.632800\n",
      "Epoch 44, CIFAR-10 Batch 4:  Loss:     0.7709 Validation Accuracy: 0.611600\n",
      "Epoch 44, CIFAR-10 Batch 5:  Loss:     0.5991 Validation Accuracy: 0.641400\n",
      "Epoch 45, CIFAR-10 Batch 1:  Loss:     0.6992 Validation Accuracy: 0.615000\n",
      "Epoch 45, CIFAR-10 Batch 2:  Loss:     0.8067 Validation Accuracy: 0.619600\n",
      "Epoch 45, CIFAR-10 Batch 3:  Loss:     0.5541 Validation Accuracy: 0.626400\n",
      "Epoch 45, CIFAR-10 Batch 4:  Loss:     0.8030 Validation Accuracy: 0.608000\n",
      "Epoch 45, CIFAR-10 Batch 5:  Loss:     0.6292 Validation Accuracy: 0.641200\n",
      "Epoch 46, CIFAR-10 Batch 1:  Loss:     0.7228 Validation Accuracy: 0.609400\n",
      "Epoch 46, CIFAR-10 Batch 2:  Loss:     0.8165 Validation Accuracy: 0.628600\n",
      "Epoch 46, CIFAR-10 Batch 3:  Loss:     0.6392 Validation Accuracy: 0.625000\n",
      "Epoch 46, CIFAR-10 Batch 4:  Loss:     0.9181 Validation Accuracy: 0.583400\n",
      "Epoch 46, CIFAR-10 Batch 5:  Loss:     0.6778 Validation Accuracy: 0.626000\n",
      "Epoch 47, CIFAR-10 Batch 1:  Loss:     0.7313 Validation Accuracy: 0.607200\n",
      "Epoch 47, CIFAR-10 Batch 2:  Loss:     0.7075 Validation Accuracy: 0.617800\n",
      "Epoch 47, CIFAR-10 Batch 3:  Loss:     0.6422 Validation Accuracy: 0.611200\n",
      "Epoch 47, CIFAR-10 Batch 4:  Loss:     0.6264 Validation Accuracy: 0.624200\n",
      "Epoch 47, CIFAR-10 Batch 5:  Loss:     0.7016 Validation Accuracy: 0.627000\n",
      "Epoch 48, CIFAR-10 Batch 1:  Loss:     0.6316 Validation Accuracy: 0.630600\n",
      "Epoch 48, CIFAR-10 Batch 2:  Loss:     0.8175 Validation Accuracy: 0.610200\n",
      "Epoch 48, CIFAR-10 Batch 3:  Loss:     0.6171 Validation Accuracy: 0.633200\n",
      "Epoch 48, CIFAR-10 Batch 4:  Loss:     0.7910 Validation Accuracy: 0.598600\n",
      "Epoch 48, CIFAR-10 Batch 5:  Loss:     0.6244 Validation Accuracy: 0.633600\n",
      "Epoch 49, CIFAR-10 Batch 1:  Loss:     0.6876 Validation Accuracy: 0.611000\n",
      "Epoch 49, CIFAR-10 Batch 2:  Loss:     0.7910 Validation Accuracy: 0.629600\n",
      "Epoch 49, CIFAR-10 Batch 3:  Loss:     0.6398 Validation Accuracy: 0.620600\n",
      "Epoch 49, CIFAR-10 Batch 4:  Loss:     0.8312 Validation Accuracy: 0.591600\n",
      "Epoch 49, CIFAR-10 Batch 5:  Loss:     0.7868 Validation Accuracy: 0.620600\n",
      "Epoch 50, CIFAR-10 Batch 1:  Loss:     0.7249 Validation Accuracy: 0.607000\n",
      "Epoch 50, CIFAR-10 Batch 2:  Loss:     0.7835 Validation Accuracy: 0.618600\n",
      "Epoch 50, CIFAR-10 Batch 3:  Loss:     0.6188 Validation Accuracy: 0.602600\n",
      "Epoch 50, CIFAR-10 Batch 4:  Loss:     0.8454 Validation Accuracy: 0.599600\n",
      "Epoch 50, CIFAR-10 Batch 5:  Loss:     0.6339 Validation Accuracy: 0.632200\n",
      "Epoch 51, CIFAR-10 Batch 1:  Loss:     0.6653 Validation Accuracy: 0.619800\n",
      "Epoch 51, CIFAR-10 Batch 2:  Loss:     0.7625 Validation Accuracy: 0.621400\n",
      "Epoch 51, CIFAR-10 Batch 3:  Loss:     0.6074 Validation Accuracy: 0.623400\n",
      "Epoch 51, CIFAR-10 Batch 4:  Loss:     0.7559 Validation Accuracy: 0.607800\n",
      "Epoch 51, CIFAR-10 Batch 5:  Loss:     0.7275 Validation Accuracy: 0.610600\n",
      "Epoch 52, CIFAR-10 Batch 1:  Loss:     0.6420 Validation Accuracy: 0.621400\n",
      "Epoch 52, CIFAR-10 Batch 2:  Loss:     0.7911 Validation Accuracy: 0.612800\n",
      "Epoch 52, CIFAR-10 Batch 3:  Loss:     0.5769 Validation Accuracy: 0.640000\n",
      "Epoch 52, CIFAR-10 Batch 4:  Loss:     0.8030 Validation Accuracy: 0.595000\n",
      "Epoch 52, CIFAR-10 Batch 5:  Loss:     0.7776 Validation Accuracy: 0.602600\n",
      "Epoch 53, CIFAR-10 Batch 1:  Loss:     0.5690 Validation Accuracy: 0.636600\n",
      "Epoch 53, CIFAR-10 Batch 2:  Loss:     0.7646 Validation Accuracy: 0.623200\n",
      "Epoch 53, CIFAR-10 Batch 3:  Loss:     0.5840 Validation Accuracy: 0.631200\n",
      "Epoch 53, CIFAR-10 Batch 4:  Loss:     0.7761 Validation Accuracy: 0.607800\n",
      "Epoch 53, CIFAR-10 Batch 5:  Loss:     0.6944 Validation Accuracy: 0.621600\n",
      "Epoch 54, CIFAR-10 Batch 1:  Loss:     0.6945 Validation Accuracy: 0.596800\n",
      "Epoch 54, CIFAR-10 Batch 2:  Loss:     0.7244 Validation Accuracy: 0.627000\n",
      "Epoch 54, CIFAR-10 Batch 3:  Loss:     0.5944 Validation Accuracy: 0.623400\n",
      "Epoch 54, CIFAR-10 Batch 4:  Loss:     0.7886 Validation Accuracy: 0.608400\n",
      "Epoch 54, CIFAR-10 Batch 5:  Loss:     0.7211 Validation Accuracy: 0.608800\n",
      "Epoch 55, CIFAR-10 Batch 1:  Loss:     0.5701 Validation Accuracy: 0.632200\n",
      "Epoch 55, CIFAR-10 Batch 2:  Loss:     0.8259 Validation Accuracy: 0.609800\n",
      "Epoch 55, CIFAR-10 Batch 3:  Loss:     0.5892 Validation Accuracy: 0.631400\n",
      "Epoch 55, CIFAR-10 Batch 4:  Loss:     0.7131 Validation Accuracy: 0.615000\n",
      "Epoch 55, CIFAR-10 Batch 5:  Loss:     0.6825 Validation Accuracy: 0.615800\n",
      "Epoch 56, CIFAR-10 Batch 1:  Loss:     0.6341 Validation Accuracy: 0.605600\n",
      "Epoch 56, CIFAR-10 Batch 2:  Loss:     0.7621 Validation Accuracy: 0.631800\n",
      "Epoch 56, CIFAR-10 Batch 3:  Loss:     0.6577 Validation Accuracy: 0.611400\n",
      "Epoch 56, CIFAR-10 Batch 4:  Loss:     0.7070 Validation Accuracy: 0.612600\n",
      "Epoch 56, CIFAR-10 Batch 5:  Loss:     0.6723 Validation Accuracy: 0.612800\n",
      "Epoch 57, CIFAR-10 Batch 1:  Loss:     0.5945 Validation Accuracy: 0.631000\n",
      "Epoch 57, CIFAR-10 Batch 2:  Loss:     0.7175 Validation Accuracy: 0.621800\n",
      "Epoch 57, CIFAR-10 Batch 3:  Loss:     0.7333 Validation Accuracy: 0.602600\n",
      "Epoch 57, CIFAR-10 Batch 4:  Loss:     0.6397 Validation Accuracy: 0.627800\n",
      "Epoch 57, CIFAR-10 Batch 5:  Loss:     0.5912 Validation Accuracy: 0.631000\n",
      "Epoch 58, CIFAR-10 Batch 1:  Loss:     0.6256 Validation Accuracy: 0.631600\n",
      "Epoch 58, CIFAR-10 Batch 2:  Loss:     0.7392 Validation Accuracy: 0.626200\n",
      "Epoch 58, CIFAR-10 Batch 3:  Loss:     0.6293 Validation Accuracy: 0.626000\n",
      "Epoch 58, CIFAR-10 Batch 4:  Loss:     0.7209 Validation Accuracy: 0.603000\n",
      "Epoch 58, CIFAR-10 Batch 5:  Loss:     0.7226 Validation Accuracy: 0.613800\n",
      "Epoch 59, CIFAR-10 Batch 1:  Loss:     0.5711 Validation Accuracy: 0.625200\n",
      "Epoch 59, CIFAR-10 Batch 2:  Loss:     0.6968 Validation Accuracy: 0.610400\n",
      "Epoch 59, CIFAR-10 Batch 3:  Loss:     0.6384 Validation Accuracy: 0.621000\n",
      "Epoch 59, CIFAR-10 Batch 4:  Loss:     0.6457 Validation Accuracy: 0.615200\n",
      "Epoch 59, CIFAR-10 Batch 5:  Loss:     0.8434 Validation Accuracy: 0.596400\n",
      "Epoch 60, CIFAR-10 Batch 1:  Loss:     0.6863 Validation Accuracy: 0.617400\n",
      "Epoch 60, CIFAR-10 Batch 2:  Loss:     0.7892 Validation Accuracy: 0.612000\n",
      "Epoch 60, CIFAR-10 Batch 3:  Loss:     0.5802 Validation Accuracy: 0.626200\n",
      "Epoch 60, CIFAR-10 Batch 4:  Loss:     0.6253 Validation Accuracy: 0.615400\n",
      "Epoch 60, CIFAR-10 Batch 5:  Loss:     0.6076 Validation Accuracy: 0.627600\n"
     ]
    }
   ],
   "source": [
    "\"\"\"\n",
    "DON'T MODIFY ANYTHING IN THIS CELL\n",
    "\"\"\"\n",
    "save_model_path = './image_classification'\n",
    "\n",
    "print('Training...')\n",
    "with tf.Session() as sess:\n",
    "    # Initializing the variables\n",
    "    sess.run(tf.global_variables_initializer())\n",
    "    \n",
    "    # Training cycle\n",
    "    for epoch in range(epochs):\n",
    "        # Loop over all batches\n",
    "        n_batches = 5\n",
    "        for batch_i in range(1, n_batches + 1):\n",
    "            for batch_features, batch_labels in helper.load_preprocess_training_batch(batch_i, batch_size):\n",
    "                train_neural_network(sess, optimizer, keep_probability, batch_features, batch_labels)\n",
    "            print('Epoch {:>2}, CIFAR-10 Batch {}:  '.format(epoch + 1, batch_i), end='')\n",
    "            print_stats(sess, batch_features, batch_labels, cost, accuracy)\n",
    "            \n",
    "    # Save Model\n",
    "    saver = tf.train.Saver()\n",
    "    save_path = saver.save(sess, save_model_path)"
   ]
  },
  {
   "cell_type": "markdown",
   "metadata": {},
   "source": [
    "# Checkpoint\n",
    "The model has been saved to disk.\n",
    "## Test Model\n",
    "Test your model against the test dataset.  This will be your final accuracy. You should have an accuracy greater than 50%. If you don't, keep tweaking the model architecture and parameters."
   ]
  },
  {
   "cell_type": "code",
   "execution_count": 77,
   "metadata": {},
   "outputs": [
    {
     "name": "stdout",
     "output_type": "stream",
     "text": [
      "Testing Accuracy: 0.6190286624203821\n",
      "\n"
     ]
    },
    {
     "data": {
      "image/png": "[encoded data removed]",
      "text/plain": [
       "<matplotlib.figure.Figure at 0x7f5801a2a710>"
      ]
     },
     "metadata": {
      "image/png": {
       "height": 319,
       "width": 355
      }
     },
     "output_type": "display_data"
    }
   ],
   "source": [
    "\"\"\"\n",
    "DON'T MODIFY ANYTHING IN THIS CELL\n",
    "\"\"\"\n",
    "%matplotlib inline\n",
    "%config InlineBackend.figure_format = 'retina'\n",
    "\n",
    "import tensorflow as tf\n",
    "import pickle\n",
    "import helper\n",
    "import random\n",
    "\n",
    "# Set batch size if not already set\n",
    "try:\n",
    "    if batch_size:\n",
    "        pass\n",
    "except NameError:\n",
    "    batch_size = 64\n",
    "\n",
    "save_model_path = './image_classification'\n",
    "n_samples = 4\n",
    "top_n_predictions = 3\n",
    "\n",
    "def test_model():\n",
    "    \"\"\"\n",
    "    Test the saved model against the test dataset\n",
    "    \"\"\"\n",
    "\n",
    "    test_features, test_labels = pickle.load(open('preprocess_training.p', mode='rb'))\n",
    "    loaded_graph = tf.Graph()\n",
    "\n",
    "    with tf.Session(graph=loaded_graph) as sess:\n",
    "        # Load model\n",
    "        loader = tf.train.import_meta_graph(save_model_path + '.meta')\n",
    "        loader.restore(sess, save_model_path)\n",
    "\n",
    "        # Get Tensors from loaded model\n",
    "        loaded_x = loaded_graph.get_tensor_by_name('x:0')\n",
    "        loaded_y = loaded_graph.get_tensor_by_name('y:0')\n",
    "        loaded_keep_prob = loaded_graph.get_tensor_by_name('keep_prob:0')\n",
    "        loaded_logits = loaded_graph.get_tensor_by_name('logits:0')\n",
    "        loaded_acc = loaded_graph.get_tensor_by_name('accuracy:0')\n",
    "        \n",
    "        # Get accuracy in batches for memory limitations\n",
    "        test_batch_acc_total = 0\n",
    "        test_batch_count = 0\n",
    "        \n",
    "        for train_feature_batch, train_label_batch in helper.batch_features_labels(test_features, test_labels, batch_size):\n",
    "            test_batch_acc_total += sess.run(\n",
    "                loaded_acc,\n",
    "                feed_dict={loaded_x: train_feature_batch, loaded_y: train_label_batch, loaded_keep_prob: 1.0})\n",
    "            test_batch_count += 1\n",
    "\n",
    "        print('Testing Accuracy: {}\\n'.format(test_batch_acc_total/test_batch_count))\n",
    "\n",
    "        # Print Random Samples\n",
    "        random_test_features, random_test_labels = tuple(zip(*random.sample(list(zip(test_features, test_labels)), n_samples)))\n",
    "        random_test_predictions = sess.run(\n",
    "            tf.nn.top_k(tf.nn.softmax(loaded_logits), top_n_predictions),\n",
    "            feed_dict={loaded_x: random_test_features, loaded_y: random_test_labels, loaded_keep_prob: 1.0})\n",
    "        helper.display_image_predictions(random_test_features, random_test_labels, random_test_predictions)\n",
    "\n",
    "\n",
    "test_model()"
   ]
  },
  {
   "cell_type": "markdown",
   "metadata": {},
   "source": [
    "## Why 50-70% Accuracy?\n",
    "You might be wondering why you can't get an accuracy any higher. First things first, 50% isn't bad for a simple CNN.  Pure guessing would get you 10% accuracy. However, you might notice people are getting scores [well above 70%](http://rodrigob.github.io/are_we_there_yet/build/classification_datasets_results.html#43494641522d3130).  That's because we haven't taught you all there is to know about neural networks. We still need to cover a few more techniques.\n",
    "## Submitting This Project\n",
    "When submitting this project, make sure to run all the cells before saving the notebook.  Save the notebook file as \"dlnd_image_classification.ipynb\" and save it as a HTML file under \"File\" -> \"Download as\".  Include the \"helper.py\" and \"problem_unittests.py\" files in your submission."
   ]
  }
 ],
 "metadata": {
  "kernelspec": {
   "display_name": "Python 3",
   "language": "python",
   "name": "python3"
  },
  "language_info": {
   "codemirror_mode": {
    "name": "ipython",
    "version": 3
   },
   "file_extension": ".py",
   "mimetype": "text/x-python",
   "name": "python",
   "nbconvert_exporter": "python",
   "pygments_lexer": "ipython3",
   "version": "3.5.3"
  }
 },
 "nbformat": 4,
 "nbformat_minor": 1
}
