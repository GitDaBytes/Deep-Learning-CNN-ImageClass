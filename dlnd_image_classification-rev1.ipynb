{
 "cells": [
  {
   "cell_type": "markdown",
   "metadata": {
    "collapsed": true
   },
   "source": [
    "# Image Classification\n",
    "In this project, you'll classify images from the [CIFAR-10 dataset](https://www.cs.toronto.edu/~kriz/cifar.html).  The dataset consists of airplanes, dogs, cats, and other objects. You'll preprocess the images, then train a convolutional neural network on all the samples. The images need to be normalized and the labels need to be one-hot encoded.  You'll get to apply what you learned and build a convolutional, max pooling, dropout, and fully connected layers.  At the end, you'll get to see your neural network's predictions on the sample images.\n",
    "## Get the Data\n",
    "Run the following cell to download the [CIFAR-10 dataset for python](https://www.cs.toronto.edu/~kriz/cifar-10-python.tar.gz)."
   ]
  },
  {
   "cell_type": "code",
   "execution_count": 1,
   "metadata": {},
   "outputs": [
    {
     "name": "stderr",
     "output_type": "stream",
     "text": [
      "CIFAR-10 Dataset: 171MB [00:08, 19.9MB/s]                                                                              \n"
     ]
    },
    {
     "name": "stdout",
     "output_type": "stream",
     "text": [
      "All files found!\n"
     ]
    }
   ],
   "source": [
    "\"\"\"\n",
    "DON'T MODIFY ANYTHING IN THIS CELL THAT IS BELOW THIS LINE\n",
    "\"\"\"\n",
    "from urllib.request import urlretrieve\n",
    "from os.path import isfile, isdir\n",
    "from tqdm import tqdm\n",
    "import problem_unittests as tests\n",
    "import tarfile\n",
    "\n",
    "cifar10_dataset_folder_path = 'cifar-10-batches-py'\n",
    "\n",
    "# Use Floyd's cifar-10 dataset if present\n",
    "floyd_cifar10_location = '/input/cifar-10/python.tar.gz'\n",
    "if isfile(floyd_cifar10_location):\n",
    "    tar_gz_path = floyd_cifar10_location\n",
    "else:\n",
    "    tar_gz_path = 'cifar-10-python.tar.gz'\n",
    "\n",
    "class DLProgress(tqdm):\n",
    "    last_block = 0\n",
    "\n",
    "    def hook(self, block_num=1, block_size=1, total_size=None):\n",
    "        self.total = total_size\n",
    "        self.update((block_num - self.last_block) * block_size)\n",
    "        self.last_block = block_num\n",
    "\n",
    "if not isfile(tar_gz_path):\n",
    "    with DLProgress(unit='B', unit_scale=True, miniters=1, desc='CIFAR-10 Dataset') as pbar:\n",
    "        urlretrieve(\n",
    "            'https://www.cs.toronto.edu/~kriz/cifar-10-python.tar.gz',\n",
    "            tar_gz_path,\n",
    "            pbar.hook)\n",
    "\n",
    "if not isdir(cifar10_dataset_folder_path):\n",
    "    with tarfile.open(tar_gz_path) as tar:\n",
    "        tar.extractall()\n",
    "        tar.close()\n",
    "\n",
    "\n",
    "tests.test_folder_path(cifar10_dataset_folder_path)"
   ]
  },
  {
   "cell_type": "markdown",
   "metadata": {},
   "source": [
    "## Explore the Data\n",
    "The dataset is broken into batches to prevent your machine from running out of memory.  The CIFAR-10 dataset consists of 5 batches, named `data_batch_1`, `data_batch_2`, etc.. Each batch contains the labels and images that are one of the following:\n",
    "* airplane\n",
    "* automobile\n",
    "* bird\n",
    "* cat\n",
    "* deer\n",
    "* dog\n",
    "* frog\n",
    "* horse\n",
    "* ship\n",
    "* truck\n",
    "\n",
    "Understanding a dataset is part of making predictions on the data.  Play around with the code cell below by changing the `batch_id` and `sample_id`. The `batch_id` is the id for a batch (1-5). The `sample_id` is the id for a image and label pair in the batch.\n",
    "\n",
    "Ask yourself \"What are all possible labels?\", \"What is the range of values for the image data?\", \"Are the labels in order or random?\".  Answers to questions like these will help you preprocess the data and end up with better predictions."
   ]
  },
  {
   "cell_type": "code",
   "execution_count": 8,
   "metadata": {},
   "outputs": [
    {
     "name": "stdout",
     "output_type": "stream",
     "text": [
      "\n",
      "Stats of batch 2:\n",
      "Samples: 10000\n",
      "Label Counts: {0: 984, 1: 1007, 2: 1010, 3: 995, 4: 1010, 5: 988, 6: 1008, 7: 1026, 8: 987, 9: 985}\n",
      "First 20 Labels: [1, 6, 6, 8, 8, 3, 4, 6, 0, 6, 0, 3, 6, 6, 5, 4, 8, 3, 2, 6]\n",
      "\n",
      "Example of Image 6:\n",
      "Image - Min Value: 0 Max Value: 235\n",
      "Image - Shape: (32, 32, 3)\n",
      "Label - Label Id: 4 Name: deer\n"
     ]
    },
    {
     "data": {
      "image/png": "[encoded data removed]",
      "text/plain": [
       "<matplotlib.figure.Figure at 0x254d86e7898>"
      ]
     },
     "metadata": {
      "image/png": {
       "height": 250,
       "width": 253
      }
     },
     "output_type": "display_data"
    }
   ],
   "source": [
    "%matplotlib inline\n",
    "%config InlineBackend.figure_format = 'retina'\n",
    "\n",
    "import helper\n",
    "import numpy as np\n",
    "\n",
    "# Explore the dataset\n",
    "batch_id = 2\n",
    "sample_id = 6\n",
    "helper.display_stats(cifar10_dataset_folder_path, batch_id, sample_id)"
   ]
  },
  {
   "cell_type": "markdown",
   "metadata": {},
   "source": [
    "## Implement Preprocess Functions\n",
    "### Normalize\n",
    "In the cell below, implement the `normalize` function to take in image data, `x`, and return it as a normalized Numpy array. The values should be in the range of 0 to 1, inclusive.  The return object should be the same shape as `x`."
   ]
  },
  {
   "cell_type": "code",
   "execution_count": 11,
   "metadata": {},
   "outputs": [
    {
     "name": "stdout",
     "output_type": "stream",
     "text": [
      "Tests Passed\n"
     ]
    }
   ],
   "source": [
    "def normalize(x):\n",
    "    \"\"\"\n",
    "    Normalize a list of sample image data in the range of 0 to 1\n",
    "    : x: List of image data.  The image shape is (32, 32, 3)\n",
    "    : return: Numpy array of normalize data\n",
    "    \"\"\"\n",
    "    \n",
    "    return x/255.0\n",
    "\n",
    "\n",
    "\"\"\"\n",
    "DON'T MODIFY ANYTHING IN THIS CELL THAT IS BELOW THIS LINE\n",
    "\"\"\"\n",
    "tests.test_normalize(normalize)"
   ]
  },
  {
   "cell_type": "markdown",
   "metadata": {},
   "source": [
    "### One-hot encode\n",
    "Just like the previous code cell, you'll be implementing a function for preprocessing.  This time, you'll implement the `one_hot_encode` function. The input, `x`, are a list of labels.  Implement the function to return the list of labels as One-Hot encoded Numpy array.  The possible values for labels are 0 to 9. The one-hot encoding function should return the same encoding for each value between each call to `one_hot_encode`.  Make sure to save the map of encodings outside the function.\n",
    "\n",
    "Hint: Don't reinvent the wheel."
   ]
  },
  {
   "cell_type": "code",
   "execution_count": 64,
   "metadata": {},
   "outputs": [
    {
     "name": "stdout",
     "output_type": "stream",
     "text": [
      "Tests Passed\n"
     ]
    }
   ],
   "source": [
    "import pandas as pd\n",
    "\n",
    "def one_hot_encode(x):\n",
    "    \"\"\"\n",
    "    One hot encode a list of sample labels. Return a one-hot encoded vector for each label.\n",
    "    : x: List of sample Labels\n",
    "    : return: Numpy array of one-hot encoded labels\n",
    "    \"\"\"\n",
    "    \n",
    "    df = pd.DataFrame()\n",
    "    \n",
    "    df['vals'] = pd.Categorical(x, categories=range(10))\n",
    "    \n",
    "    label_one_hot = np.array(pd.get_dummies(df['vals']))\n",
    "   \n",
    "    return label_one_hot\n",
    "\n",
    "\n",
    "\"\"\"\n",
    "DON'T MODIFY ANYTHING IN THIS CELL THAT IS BELOW THIS LINE\n",
    "\"\"\"\n",
    "tests.test_one_hot_encode(one_hot_encode)"
   ]
  },
  {
   "cell_type": "markdown",
   "metadata": {},
   "source": [
    "### Randomize Data\n",
    "As you saw from exploring the data above, the order of the samples are randomized.  It doesn't hurt to randomize it again, but you don't need to for this dataset."
   ]
  },
  {
   "cell_type": "markdown",
   "metadata": {},
   "source": [
    "## Preprocess all the data and save it\n",
    "Running the code cell below will preprocess all the CIFAR-10 data and save it to file. The code below also uses 10% of the training data for validation."
   ]
  },
  {
   "cell_type": "code",
   "execution_count": 65,
   "metadata": {
    "collapsed": true
   },
   "outputs": [],
   "source": [
    "\"\"\"\n",
    "DON'T MODIFY ANYTHING IN THIS CELL\n",
    "\"\"\"\n",
    "# Preprocess Training, Validation, and Testing Data\n",
    "helper.preprocess_and_save_data(cifar10_dataset_folder_path, normalize, one_hot_encode)"
   ]
  },
  {
   "cell_type": "markdown",
   "metadata": {},
   "source": [
    "# Check Point\n",
    "This is your first checkpoint.  If you ever decide to come back to this notebook or have to restart the notebook, you can start from here.  The preprocessed data has been saved to disk."
   ]
  },
  {
   "cell_type": "code",
   "execution_count": 2,
   "metadata": {
    "collapsed": true
   },
   "outputs": [],
   "source": [
    "\"\"\"\n",
    "DON'T MODIFY ANYTHING IN THIS CELL\n",
    "\"\"\"\n",
    "import pickle\n",
    "import problem_unittests as tests\n",
    "import helper\n",
    "\n",
    "# Load the Preprocessed Validation data\n",
    "valid_features, valid_labels = pickle.load(open('preprocess_validation.p', mode='rb'))"
   ]
  },
  {
   "cell_type": "markdown",
   "metadata": {},
   "source": [
    "## Build the network\n",
    "For the neural network, you'll build each layer into a function.  Most of the code you've seen has been outside of functions. To test your code more thoroughly, we require that you put each layer in a function.  This allows us to give you better feedback and test for simple mistakes using our unittests before you submit your project.\n",
    "\n",
    ">**Note:** If you're finding it hard to dedicate enough time for this course each week, we've provided a small shortcut to this part of the project. In the next couple of problems, you'll have the option to use classes from the [TensorFlow Layers](https://www.tensorflow.org/api_docs/python/tf/layers) or [TensorFlow Layers (contrib)](https://www.tensorflow.org/api_guides/python/contrib.layers) packages to build each layer, except the layers you build in the \"Convolutional and Max Pooling Layer\" section.  TF Layers is similar to Keras's and TFLearn's abstraction to layers, so it's easy to pickup.\n",
    "\n",
    ">However, if you would like to get the most out of this course, try to solve all the problems _without_ using anything from the TF Layers packages. You **can** still use classes from other packages that happen to have the same name as ones you find in TF Layers! For example, instead of using the TF Layers version of the `conv2d` class, [tf.layers.conv2d](https://www.tensorflow.org/api_docs/python/tf/layers/conv2d), you would want to use the TF Neural Network version of `conv2d`, [tf.nn.conv2d](https://www.tensorflow.org/api_docs/python/tf/nn/conv2d). \n",
    "\n",
    "Let's begin!\n",
    "\n",
    "### Input\n",
    "The neural network needs to read the image data, one-hot encoded labels, and dropout keep probability. Implement the following functions\n",
    "* Implement `neural_net_image_input`\n",
    " * Return a [TF Placeholder](https://www.tensorflow.org/api_docs/python/tf/placeholder)\n",
    " * Set the shape using `image_shape` with batch size set to `None`.\n",
    " * Name the TensorFlow placeholder \"x\" using the TensorFlow `name` parameter in the [TF Placeholder](https://www.tensorflow.org/api_docs/python/tf/placeholder).\n",
    "* Implement `neural_net_label_input`\n",
    " * Return a [TF Placeholder](https://www.tensorflow.org/api_docs/python/tf/placeholder)\n",
    " * Set the shape using `n_classes` with batch size set to `None`.\n",
    " * Name the TensorFlow placeholder \"y\" using the TensorFlow `name` parameter in the [TF Placeholder](https://www.tensorflow.org/api_docs/python/tf/placeholder).\n",
    "* Implement `neural_net_keep_prob_input`\n",
    " * Return a [TF Placeholder](https://www.tensorflow.org/api_docs/python/tf/placeholder) for dropout keep probability.\n",
    " * Name the TensorFlow placeholder \"keep_prob\" using the TensorFlow `name` parameter in the [TF Placeholder](https://www.tensorflow.org/api_docs/python/tf/placeholder).\n",
    "\n",
    "These names will be used at the end of the project to load your saved model.\n",
    "\n",
    "Note: `None` for shapes in TensorFlow allow for a dynamic size."
   ]
  },
  {
   "cell_type": "code",
   "execution_count": 3,
   "metadata": {},
   "outputs": [
    {
     "name": "stdout",
     "output_type": "stream",
     "text": [
      "Image Input Tests Passed.\n",
      "Label Input Tests Passed.\n",
      "Keep Prob Tests Passed.\n"
     ]
    }
   ],
   "source": [
    "import tensorflow as tf\n",
    "\n",
    "def neural_net_image_input(image_shape):\n",
    "    \"\"\"\n",
    "    Return a Tensor for a bach of image input\n",
    "    : image_shape: Shape of the images\n",
    "    : return: Tensor for image input.\n",
    "    \"\"\"\n",
    "    return tf.placeholder(tf.float32, shape=(None, image_shape[0], image_shape[1], image_shape[2]), name='x')\n",
    "\n",
    "\n",
    "def neural_net_label_input(n_classes):\n",
    "    \"\"\"\n",
    "    Return a Tensor for a batch of label input\n",
    "    : n_classes: Number of classes\n",
    "    : return: Tensor for label input.\n",
    "    \"\"\"\n",
    "    return tf.placeholder(tf.float32, shape=(None, n_classes), name='y')\n",
    "\n",
    "\n",
    "def neural_net_keep_prob_input():\n",
    "    \"\"\"\n",
    "    Return a Tensor for keep probability\n",
    "    : return: Tensor for keep probability.\n",
    "    \"\"\"\n",
    "    return tf.placeholder(tf.float32, name='keep_prob')\n",
    "\n",
    "\n",
    "\"\"\"\n",
    "DON'T MODIFY ANYTHING IN THIS CELL THAT IS BELOW THIS LINE\n",
    "\"\"\"\n",
    "tf.reset_default_graph()\n",
    "tests.test_nn_image_inputs(neural_net_image_input)\n",
    "tests.test_nn_label_inputs(neural_net_label_input)\n",
    "tests.test_nn_keep_prob_inputs(neural_net_keep_prob_input)"
   ]
  },
  {
   "cell_type": "markdown",
   "metadata": {},
   "source": [
    "### Convolution and Max Pooling Layer\n",
    "Convolution layers have a lot of success with images. For this code cell, you should implement the function `conv2d_maxpool` to apply convolution then max pooling:\n",
    "* Create the weight and bias using `conv_ksize`, `conv_num_outputs` and the shape of `x_tensor`.\n",
    "* Apply a convolution to `x_tensor` using weight and `conv_strides`.\n",
    " * We recommend you use same padding, but you're welcome to use any padding.\n",
    "* Add bias\n",
    "* Add a nonlinear activation to the convolution.\n",
    "* Apply Max Pooling using `pool_ksize` and `pool_strides`.\n",
    " * We recommend you use same padding, but you're welcome to use any padding.\n",
    "\n",
    "**Note:** You **can't** use [TensorFlow Layers](https://www.tensorflow.org/api_docs/python/tf/layers) or [TensorFlow Layers (contrib)](https://www.tensorflow.org/api_guides/python/contrib.layers) for **this** layer, but you can still use TensorFlow's [Neural Network](https://www.tensorflow.org/api_docs/python/tf/nn) package. You may still use the shortcut option for all the **other** layers."
   ]
  },
  {
   "cell_type": "code",
   "execution_count": 4,
   "metadata": {},
   "outputs": [
    {
     "name": "stdout",
     "output_type": "stream",
     "text": [
      "Tests Passed\n"
     ]
    }
   ],
   "source": [
    "def conv2d_maxpool(x_tensor, conv_num_outputs, conv_ksize, conv_strides, pool_ksize, pool_strides):\n",
    "    \"\"\"\n",
    "    Apply convolution then max pooling to x_tensor\n",
    "    :param x_tensor: TensorFlow Tensor\n",
    "    :param conv_num_outputs: Number of outputs for the convolutional layer\n",
    "    :param conv_ksize: kernal size 2-D Tuple for the convolutional layer\n",
    "    :param conv_strides: Stride 2-D Tuple for convolution\n",
    "    :param pool_ksize: kernal size 2-D Tuple for pool\n",
    "    :param pool_strides: Stride 2-D Tuple for pool\n",
    "    : return: A tensor that represents convolution and max pooling of x_tensor\n",
    "    \"\"\"\n",
    "    \n",
    "    input_depth = int(x_tensor.shape[3])\n",
    "    \n",
    "    weight_init = (1.0/int(x_tensor.shape[1]))\n",
    "    \n",
    "    ## setup weights and bias\n",
    "    weights = tf.Variable(tf.truncated_normal((conv_ksize[0], conv_ksize[1], input_depth, conv_num_outputs), 0, weight_init))\n",
    "    bias    = tf.Variable(tf.zeros(conv_num_outputs))\n",
    "    \n",
    "\n",
    "    ## 2d convolution\n",
    "    x = tf.nn.conv2d(x_tensor, weights, strides=[1, conv_strides[0], conv_strides[1], 1], padding='SAME')\n",
    "    x = tf.nn.bias_add(x, bias)\n",
    "                     \n",
    "    ## add non-linear activation\n",
    "    x = tf.nn.relu(x)\n",
    "    \n",
    "    \n",
    "    ## Max Pooling \n",
    "    ksize = [1, pool_ksize[0], pool_ksize[1], 1]\n",
    "    strides = [1, pool_strides[0], pool_strides[1], 1]\n",
    "    padding = 'SAME'\n",
    "    result = tf.nn.max_pool(x, ksize, strides, padding)\n",
    "\n",
    "    return result \n",
    "\n",
    "\"\"\"\n",
    "DON'T MODIFY ANYTHING IN THIS CELL THAT IS BELOW THIS LINE\n",
    "\"\"\"\n",
    "tests.test_con_pool(conv2d_maxpool)"
   ]
  },
  {
   "cell_type": "markdown",
   "metadata": {},
   "source": [
    "### Flatten Layer\n",
    "Implement the `flatten` function to change the dimension of `x_tensor` from a 4-D tensor to a 2-D tensor.  The output should be the shape (*Batch Size*, *Flattened Image Size*). Shortcut option: you can use classes from the [TensorFlow Layers](https://www.tensorflow.org/api_docs/python/tf/layers) or [TensorFlow Layers (contrib)](https://www.tensorflow.org/api_guides/python/contrib.layers) packages for this layer. For more of a challenge, only use other TensorFlow packages."
   ]
  },
  {
   "cell_type": "code",
   "execution_count": 28,
   "metadata": {},
   "outputs": [
    {
     "name": "stdout",
     "output_type": "stream",
     "text": [
      "Tests Passed\n"
     ]
    }
   ],
   "source": [
    "import numpy as np\n",
    "\n",
    "def flatten(x_tensor):\n",
    "    \"\"\"\n",
    "    Flatten x_tensor to (Batch Size, Flattened Image Size)\n",
    "    : x_tensor: A tensor of size (Batch Size, ...), where ... are the image dimensions.\n",
    "    : return: A tensor of size (Batch Size, Flattened Image Size).\n",
    "    \"\"\"\n",
    "    shape = x_tensor.get_shape().as_list() \n",
    "    dim = np.prod(shape[1:])            \n",
    "    x_tensor_2 = tf.reshape(x_tensor, [-1, dim])\n",
    "    \n",
    "    return x_tensor_2\n",
    "\n",
    "\n",
    "\"\"\"\n",
    "DON'T MODIFY ANYTHING IN THIS CELL THAT IS BELOW THIS LINE\n",
    "\"\"\"\n",
    "tests.test_flatten(flatten)"
   ]
  },
  {
   "cell_type": "markdown",
   "metadata": {},
   "source": [
    "### Fully-Connected Layer\n",
    "Implement the `fully_conn` function to apply a fully connected layer to `x_tensor` with the shape (*Batch Size*, *num_outputs*). Shortcut option: you can use classes from the [TensorFlow Layers](https://www.tensorflow.org/api_docs/python/tf/layers) or [TensorFlow Layers (contrib)](https://www.tensorflow.org/api_guides/python/contrib.layers) packages for this layer. For more of a challenge, only use other TensorFlow packages."
   ]
  },
  {
   "cell_type": "code",
   "execution_count": 32,
   "metadata": {},
   "outputs": [
    {
     "name": "stdout",
     "output_type": "stream",
     "text": [
      "Tests Passed\n"
     ]
    }
   ],
   "source": [
    "import math\n",
    "\n",
    "def fully_conn(x_tensor, num_outputs):\n",
    "    \"\"\"\n",
    "    Apply a fully connected layer to x_tensor using weight and bias\n",
    "    : x_tensor: A 2-D tensor where the first dimension is batch size.\n",
    "    : num_outputs: The number of output that the new tensor should be.\n",
    "    : return: A 2-D tensor where the second dimension is num_outputs.\n",
    "    \"\"\"\n",
    "    \n",
    "    weight_init = (1.0/math.sqrt(int(x_tensor.shape[1])))\n",
    "    \n",
    "    weights = tf.Variable(tf.truncated_normal((int(x_tensor.shape[1]), num_outputs), 0.0, weight_init))\n",
    "    bias    = tf.Variable(tf.zeros(num_outputs))\n",
    "    \n",
    "    result = tf.add(tf.matmul(x_tensor, weights), bias)\n",
    "    \n",
    "    result = tf.nn.relu(result)\n",
    "    \n",
    "    return result\n",
    "\n",
    "\n",
    "\"\"\"\n",
    "DON'T MODIFY ANYTHING IN THIS CELL THAT IS BELOW THIS LINE\n",
    "\"\"\"\n",
    "tests.test_fully_conn(fully_conn)"
   ]
  },
  {
   "cell_type": "markdown",
   "metadata": {},
   "source": [
    "### Output Layer\n",
    "Implement the `output` function to apply a fully connected layer to `x_tensor` with the shape (*Batch Size*, *num_outputs*). Shortcut option: you can use classes from the [TensorFlow Layers](https://www.tensorflow.org/api_docs/python/tf/layers) or [TensorFlow Layers (contrib)](https://www.tensorflow.org/api_guides/python/contrib.layers) packages for this layer. For more of a challenge, only use other TensorFlow packages.\n",
    "\n",
    "**Note:** Activation, softmax, or cross entropy should **not** be applied to this."
   ]
  },
  {
   "cell_type": "code",
   "execution_count": 33,
   "metadata": {},
   "outputs": [
    {
     "name": "stdout",
     "output_type": "stream",
     "text": [
      "Tests Passed\n"
     ]
    }
   ],
   "source": [
    "def output(x_tensor, num_outputs):\n",
    "    \"\"\"\n",
    "    Apply a output layer to x_tensor using weight and bias\n",
    "    : x_tensor: A 2-D tensor where the first dimension is batch size.\n",
    "    : num_outputs: The number of output that the new tensor should be.\n",
    "    : return: A 2-D tensor where the second dimension is num_outputs.\n",
    "    \"\"\"\n",
    "    weight_init = (1.0/math.sqrt(int(x_tensor.shape[1])))\n",
    "    \n",
    "    weights = tf.Variable(tf.truncated_normal((int(x_tensor.shape[1]), num_outputs), 0.0, weight_init))\n",
    "    bias    = tf.Variable(tf.zeros(num_outputs))\n",
    "    \n",
    "    result = tf.add(tf.matmul(x_tensor, weights), bias)\n",
    "    \n",
    " \n",
    "    return result\n",
    "\n",
    "\n",
    "\"\"\"\n",
    "DON'T MODIFY ANYTHING IN THIS CELL THAT IS BELOW THIS LINE\n",
    "\"\"\"\n",
    "tests.test_output(output)"
   ]
  },
  {
   "cell_type": "markdown",
   "metadata": {},
   "source": [
    "### Create Convolutional Model\n",
    "Implement the function `conv_net` to create a convolutional neural network model. The function takes in a batch of images, `x`, and outputs logits.  Use the layers you created above to create this model:\n",
    "\n",
    "* Apply 1, 2, or 3 Convolution and Max Pool layers\n",
    "* Apply a Flatten Layer\n",
    "* Apply 1, 2, or 3 Fully Connected Layers\n",
    "* Apply an Output Layer\n",
    "* Return the output\n",
    "* Apply [TensorFlow's Dropout](https://www.tensorflow.org/api_docs/python/tf/nn/dropout) to one or more layers in the model using `keep_prob`. "
   ]
  },
  {
   "cell_type": "code",
   "execution_count": 77,
   "metadata": {},
   "outputs": [
    {
     "name": "stdout",
     "output_type": "stream",
     "text": [
      "Neural Network Built!\n"
     ]
    }
   ],
   "source": [
    "def conv_net(x, keep_prob):\n",
    "    \"\"\"\n",
    "    Create a convolutional neural network model\n",
    "    : x: Placeholder tensor that holds image data.\n",
    "    : keep_prob: Placeholder tensor that hold dropout keep probability.\n",
    "    : return: Tensor that represents logits\n",
    "    \"\"\"\n",
    "    # TODO: Apply 1, 2, or 3 Convolution and Max Pool layers\n",
    "    #    Play around with different number of outputs, kernel size and stride\n",
    "    # Function Definition from Above:\n",
    "    #    conv2d_maxpool(x_tensor, conv_num_outputs, conv_ksize, conv_strides, pool_ksize, pool_strides)\n",
    "    \n",
    "  \n",
    "    ## Conv Layer 1 ##\n",
    "    \n",
    "    x2 = conv2d_maxpool(x, conv_num_outputs=10, conv_ksize = (5,5), conv_strides = (1,1), pool_ksize = (2,2), pool_strides = (1,1))\n",
    "    \n",
    "    ## drop out for convolution layer\n",
    "    drop_out = tf.nn.dropout(x2, keep_prob)\n",
    "    \n",
    "    ## Conv Layer 2 ##\n",
    "    \n",
    "    x2 = conv2d_maxpool(x, conv_num_outputs=25, conv_ksize = (5,5), conv_strides = (1,1), pool_ksize = (2,2), pool_strides = (1,1))\n",
    "    \n",
    "    ## drop out for convolution layer\n",
    "    drop_out = tf.nn.dropout(x2, keep_prob)\n",
    "    \n",
    "    ## Conv Layer 3 ##\n",
    "    \n",
    "    x2 = conv2d_maxpool(x, conv_num_outputs=55, conv_ksize = (5,5), conv_strides = (1,1), pool_ksize = (2,2), pool_strides = (2,2))\n",
    "    \n",
    "    ## drop out for convolution layer\n",
    "    drop_out = tf.nn.dropout(x2, keep_prob)\n",
    "\n",
    "    # TODO: Apply a Flatten Layer\n",
    "    # Function Definition from Above:\n",
    "    #   flatten(x_tensor)\n",
    "    \n",
    "    x2 = flatten(x2)\n",
    "    \n",
    "\n",
    "    # TODO: Apply 1, 2, or 3 Fully Connected Layers\n",
    "    #    Play around with different number of outputs\n",
    "    # Function Definition from Above:\n",
    "    #   fully_conn(x_tensor, num_outputs)\n",
    "    \n",
    "    x2 = fully_conn(x2, 512)\n",
    "    \n",
    "    drop_out = tf.nn.dropout(x2, keep_prob)\n",
    "    \n",
    "    x2 = fully_conn(x2, 120)\n",
    "    \n",
    "    drop_out = tf.nn.dropout(x2, keep_prob)\n",
    "    \n",
    "    #x2 = fully_conn(x2, 120)\n",
    "    \n",
    "    # TODO: Apply an Output Layer\n",
    "    #    Set this to the number of classes\n",
    "    # Function Definition from Above:\n",
    "    #   output(x_tensor, num_outputs)\n",
    "    \n",
    "    placeholder2 = tf.get_default_graph().get_tensor_by_name('y:0')\n",
    "    num_classes = int(placeholder2.shape[1])\n",
    "\n",
    "    result = output(x2, num_classes)\n",
    "    \n",
    "    return result\n",
    "\n",
    "\n",
    "\n",
    "\"\"\"\n",
    "DON'T MODIFY ANYTHING IN THIS CELL THAT IS BELOW THIS LINE\n",
    "\"\"\"\n",
    "\n",
    "##############################\n",
    "## Build the Neural Network ##\n",
    "##############################\n",
    "\n",
    "# Remove previous weights, bias, inputs, etc..\n",
    "tf.reset_default_graph()\n",
    "\n",
    "# Inputs\n",
    "x = neural_net_image_input((32, 32, 3))\n",
    "y = neural_net_label_input(10)\n",
    "keep_prob = neural_net_keep_prob_input()\n",
    "\n",
    "# Model\n",
    "logits = conv_net(x, keep_prob)\n",
    "\n",
    "# Name logits Tensor, so that is can be loaded from disk after training\n",
    "logits = tf.identity(logits, name='logits')\n",
    "\n",
    "# Loss and Optimizer\n",
    "cost = tf.reduce_mean(tf.nn.softmax_cross_entropy_with_logits(logits=logits, labels=y))\n",
    "optimizer = tf.train.AdamOptimizer().minimize(cost)\n",
    "\n",
    "# Accuracy\n",
    "correct_pred = tf.equal(tf.argmax(logits, 1), tf.argmax(y, 1))\n",
    "accuracy = tf.reduce_mean(tf.cast(correct_pred, tf.float32), name='accuracy')\n",
    "\n",
    "tests.test_conv_net(conv_net)"
   ]
  },
  {
   "cell_type": "markdown",
   "metadata": {},
   "source": [
    "## Train the Neural Network\n",
    "### Single Optimization\n",
    "Implement the function `train_neural_network` to do a single optimization.  The optimization should use `optimizer` to optimize in `session` with a `feed_dict` of the following:\n",
    "* `x` for image input\n",
    "* `y` for labels\n",
    "* `keep_prob` for keep probability for dropout\n",
    "\n",
    "This function will be called for each batch, so `tf.global_variables_initializer()` has already been called.\n",
    "\n",
    "Note: Nothing needs to be returned. This function is only optimizing the neural network."
   ]
  },
  {
   "cell_type": "code",
   "execution_count": 78,
   "metadata": {},
   "outputs": [
    {
     "name": "stdout",
     "output_type": "stream",
     "text": [
      "Tests Passed\n"
     ]
    }
   ],
   "source": [
    "def train_neural_network(session, optimizer, keep_probability, feature_batch, label_batch):\n",
    "    \"\"\"\n",
    "    Optimize the session on a batch of images and labels\n",
    "    : session: Current TensorFlow session\n",
    "    : optimizer: TensorFlow optimizer function\n",
    "    : keep_probability: keep probability\n",
    "    : feature_batch: Batch of Numpy image data\n",
    "    : label_batch: Batch of Numpy label data\n",
    "    \"\"\"\n",
    "    session.run(optimizer, feed_dict={\n",
    "                x: feature_batch,\n",
    "                y: label_batch,\n",
    "                keep_prob: keep_probability})\n",
    "\n",
    "\n",
    "\"\"\"\n",
    "DON'T MODIFY ANYTHING IN THIS CELL THAT IS BELOW THIS LINE\n",
    "\"\"\"\n",
    "tests.test_train_nn(train_neural_network)"
   ]
  },
  {
   "cell_type": "markdown",
   "metadata": {},
   "source": [
    "### Show Stats\n",
    "Implement the function `print_stats` to print loss and validation accuracy.  Use the global variables `valid_features` and `valid_labels` to calculate validation accuracy.  Use a keep probability of `1.0` to calculate the loss and validation accuracy."
   ]
  },
  {
   "cell_type": "code",
   "execution_count": 79,
   "metadata": {
    "collapsed": true
   },
   "outputs": [],
   "source": [
    "def print_stats(session, feature_batch, label_batch, cost, accuracy):\n",
    "    \"\"\"\n",
    "    Print information about loss and validation accuracy\n",
    "    : session: Current TensorFlow session\n",
    "    : feature_batch: Batch of Numpy image data\n",
    "    : label_batch: Batch of Numpy label data\n",
    "    : cost: TensorFlow cost function\n",
    "    : accuracy: TensorFlow accuracy function\n",
    "    \"\"\"\n",
    "    loss = session.run(cost, feed_dict={\n",
    "                x: feature_batch,\n",
    "                y: label_batch,\n",
    "                keep_prob: 1.})\n",
    "    \n",
    "    #print(valid_features.shape)\n",
    "    #print(feature_batch.shape)\n",
    "    \n",
    " \n",
    "    #batch_size = feature_batch.\n",
    "    valid_acc = session.run(accuracy, feed_dict={\n",
    "                x: valid_features,\n",
    "                y: valid_labels,\n",
    "                keep_prob: 1.})\n",
    "    \n",
    "    print('Loss: {:>10.4f} Validation Accuracy: {:.6f}'.format(\n",
    "                loss,\n",
    "                valid_acc))"
   ]
  },
  {
   "cell_type": "markdown",
   "metadata": {},
   "source": [
    "### Hyperparameters\n",
    "Tune the following parameters:\n",
    "* Set `epochs` to the number of iterations until the network stops learning or start overfitting\n",
    "* Set `batch_size` to the highest number that your machine has memory for.  Most people set them to common sizes of memory:\n",
    " * 64\n",
    " * 128\n",
    " * 256\n",
    " * ...\n",
    "* Set `keep_probability` to the probability of keeping a node using dropout"
   ]
  },
  {
   "cell_type": "code",
   "execution_count": 80,
   "metadata": {
    "collapsed": true
   },
   "outputs": [],
   "source": [
    "# TODO: Tune Parameters\n",
    "epochs = 60\n",
    "batch_size = 512\n",
    "keep_probability = .5"
   ]
  },
  {
   "cell_type": "markdown",
   "metadata": {},
   "source": [
    "### Train on a Single CIFAR-10 Batch\n",
    "Instead of training the neural network on all the CIFAR-10 batches of data, let's use a single batch. This should save time while you iterate on the model to get a better accuracy.  Once the final validation accuracy is 50% or greater, run the model on all the data in the next section."
   ]
  },
  {
   "cell_type": "code",
   "execution_count": 81,
   "metadata": {},
   "outputs": [
    {
     "name": "stdout",
     "output_type": "stream",
     "text": [
      "Checking the Training on a Single Batch...\n",
      "Epoch  1, CIFAR-10 Batch 1:  Loss:     2.0625 Validation Accuracy: 0.273400\n",
      "Epoch  2, CIFAR-10 Batch 1:  Loss:     1.8954 Validation Accuracy: 0.319000\n",
      "Epoch  3, CIFAR-10 Batch 1:  Loss:     1.7003 Validation Accuracy: 0.410800\n",
      "Epoch  4, CIFAR-10 Batch 1:  Loss:     1.6025 Validation Accuracy: 0.430400\n",
      "Epoch  5, CIFAR-10 Batch 1:  Loss:     1.4803 Validation Accuracy: 0.448200\n",
      "Epoch  6, CIFAR-10 Batch 1:  Loss:     1.3719 Validation Accuracy: 0.470400\n",
      "Epoch  7, CIFAR-10 Batch 1:  Loss:     1.2587 Validation Accuracy: 0.499400\n",
      "Epoch  8, CIFAR-10 Batch 1:  Loss:     1.1732 Validation Accuracy: 0.502600\n",
      "Epoch  9, CIFAR-10 Batch 1:  Loss:     1.0969 Validation Accuracy: 0.507400\n",
      "Epoch 10, CIFAR-10 Batch 1:  Loss:     0.9920 Validation Accuracy: 0.524000\n",
      "Epoch 11, CIFAR-10 Batch 1:  Loss:     0.9083 Validation Accuracy: 0.528800\n",
      "Epoch 12, CIFAR-10 Batch 1:  Loss:     0.8280 Validation Accuracy: 0.538800\n",
      "Epoch 13, CIFAR-10 Batch 1:  Loss:     0.7619 Validation Accuracy: 0.540200\n",
      "Epoch 14, CIFAR-10 Batch 1:  Loss:     0.7013 Validation Accuracy: 0.539600\n",
      "Epoch 15, CIFAR-10 Batch 1:  Loss:     0.6658 Validation Accuracy: 0.537000\n",
      "Epoch 16, CIFAR-10 Batch 1:  Loss:     0.6373 Validation Accuracy: 0.534600\n",
      "Epoch 17, CIFAR-10 Batch 1:  Loss:     0.5788 Validation Accuracy: 0.548600\n",
      "Epoch 18, CIFAR-10 Batch 1:  Loss:     0.5803 Validation Accuracy: 0.532000\n",
      "Epoch 19, CIFAR-10 Batch 1:  Loss:     0.4965 Validation Accuracy: 0.537600\n",
      "Epoch 20, CIFAR-10 Batch 1:  Loss:     0.4652 Validation Accuracy: 0.529200\n",
      "Epoch 21, CIFAR-10 Batch 1:  Loss:     0.4034 Validation Accuracy: 0.552400\n",
      "Epoch 22, CIFAR-10 Batch 1:  Loss:     0.4133 Validation Accuracy: 0.547000\n",
      "Epoch 23, CIFAR-10 Batch 1:  Loss:     0.3505 Validation Accuracy: 0.540400\n",
      "Epoch 24, CIFAR-10 Batch 1:  Loss:     0.3075 Validation Accuracy: 0.536400\n",
      "Epoch 25, CIFAR-10 Batch 1:  Loss:     0.2879 Validation Accuracy: 0.534200\n",
      "Epoch 26, CIFAR-10 Batch 1:  Loss:     0.3105 Validation Accuracy: 0.536400\n",
      "Epoch 27, CIFAR-10 Batch 1:  Loss:     0.2493 Validation Accuracy: 0.536400\n",
      "Epoch 28, CIFAR-10 Batch 1:  Loss:     0.2689 Validation Accuracy: 0.525400\n",
      "Epoch 29, CIFAR-10 Batch 1:  Loss:     0.2505 Validation Accuracy: 0.542800\n",
      "Epoch 30, CIFAR-10 Batch 1:  Loss:     0.2235 Validation Accuracy: 0.541200\n",
      "Epoch 31, CIFAR-10 Batch 1:  Loss:     0.3016 Validation Accuracy: 0.522400\n",
      "Epoch 32, CIFAR-10 Batch 1:  Loss:     0.2350 Validation Accuracy: 0.536200\n",
      "Epoch 33, CIFAR-10 Batch 1:  Loss:     0.1681 Validation Accuracy: 0.531000\n",
      "Epoch 34, CIFAR-10 Batch 1:  Loss:     0.2709 Validation Accuracy: 0.498400\n",
      "Epoch 35, CIFAR-10 Batch 1:  Loss:     0.1221 Validation Accuracy: 0.544600\n",
      "Epoch 36, CIFAR-10 Batch 1:  Loss:     0.1045 Validation Accuracy: 0.541200\n",
      "Epoch 37, CIFAR-10 Batch 1:  Loss:     0.0902 Validation Accuracy: 0.545200\n",
      "Epoch 38, CIFAR-10 Batch 1:  Loss:     0.0879 Validation Accuracy: 0.544000\n",
      "Epoch 39, CIFAR-10 Batch 1:  Loss:     0.0909 Validation Accuracy: 0.528200\n",
      "Epoch 40, CIFAR-10 Batch 1:  Loss:     0.1735 Validation Accuracy: 0.498000\n",
      "Epoch 41, CIFAR-10 Batch 1:  Loss:     0.1005 Validation Accuracy: 0.522800\n",
      "Epoch 42, CIFAR-10 Batch 1:  Loss:     0.0714 Validation Accuracy: 0.553400\n",
      "Epoch 43, CIFAR-10 Batch 1:  Loss:     0.0440 Validation Accuracy: 0.552800\n",
      "Epoch 44, CIFAR-10 Batch 1:  Loss:     0.0530 Validation Accuracy: 0.555400\n",
      "Epoch 45, CIFAR-10 Batch 1:  Loss:     0.1171 Validation Accuracy: 0.531000\n",
      "Epoch 46, CIFAR-10 Batch 1:  Loss:     0.0685 Validation Accuracy: 0.542800\n",
      "Epoch 47, CIFAR-10 Batch 1:  Loss:     0.0545 Validation Accuracy: 0.530400\n",
      "Epoch 48, CIFAR-10 Batch 1:  Loss:     0.0360 Validation Accuracy: 0.547800\n",
      "Epoch 49, CIFAR-10 Batch 1:  Loss:     0.0314 Validation Accuracy: 0.541000\n",
      "Epoch 50, CIFAR-10 Batch 1:  Loss:     0.0276 Validation Accuracy: 0.556200\n",
      "Epoch 51, CIFAR-10 Batch 1:  Loss:     0.0721 Validation Accuracy: 0.543600\n",
      "Epoch 52, CIFAR-10 Batch 1:  Loss:     0.0178 Validation Accuracy: 0.556600\n",
      "Epoch 53, CIFAR-10 Batch 1:  Loss:     0.0193 Validation Accuracy: 0.554000\n",
      "Epoch 54, CIFAR-10 Batch 1:  Loss:     0.0207 Validation Accuracy: 0.549000\n",
      "Epoch 55, CIFAR-10 Batch 1:  Loss:     0.0219 Validation Accuracy: 0.543800\n",
      "Epoch 56, CIFAR-10 Batch 1:  Loss:     0.0201 Validation Accuracy: 0.543600\n",
      "Epoch 57, CIFAR-10 Batch 1:  Loss:     0.0266 Validation Accuracy: 0.535400\n",
      "Epoch 58, CIFAR-10 Batch 1:  Loss:     0.0525 Validation Accuracy: 0.521000\n",
      "Epoch 59, CIFAR-10 Batch 1:  Loss:     0.0354 Validation Accuracy: 0.543800\n",
      "Epoch 60, CIFAR-10 Batch 1:  Loss:     0.0354 Validation Accuracy: 0.536600\n"
     ]
    }
   ],
   "source": [
    "\"\"\"\n",
    "DON'T MODIFY ANYTHING IN THIS CELL\n",
    "\"\"\"\n",
    "print('Checking the Training on a Single Batch...')\n",
    "with tf.Session() as sess:\n",
    "    # Initializing the variables\n",
    "    sess.run(tf.global_variables_initializer())\n",
    "    \n",
    "    # Training cycle\n",
    "    for epoch in range(epochs):\n",
    "        batch_i = 1\n",
    "        for batch_features, batch_labels in helper.load_preprocess_training_batch(batch_i, batch_size):\n",
    "            train_neural_network(sess, optimizer, keep_probability, batch_features, batch_labels)\n",
    "        print('Epoch {:>2}, CIFAR-10 Batch {}:  '.format(epoch + 1, batch_i), end='')\n",
    "        print_stats(sess, batch_features, batch_labels, cost, accuracy)"
   ]
  },
  {
   "cell_type": "markdown",
   "metadata": {},
   "source": [
    "### Fully Train the Model\n",
    "Now that you got a good accuracy with a single CIFAR-10 batch, try it with all five batches."
   ]
  },
  {
   "cell_type": "code",
   "execution_count": 82,
   "metadata": {},
   "outputs": [
    {
     "name": "stdout",
     "output_type": "stream",
     "text": [
      "Training...\n",
      "Epoch  1, CIFAR-10 Batch 1:  Loss:     1.9674 Validation Accuracy: 0.278400\n",
      "Epoch  1, CIFAR-10 Batch 2:  Loss:     1.6798 Validation Accuracy: 0.390600\n",
      "Epoch  1, CIFAR-10 Batch 3:  Loss:     1.4901 Validation Accuracy: 0.419200\n",
      "Epoch  1, CIFAR-10 Batch 4:  Loss:     1.4099 Validation Accuracy: 0.451600\n",
      "Epoch  1, CIFAR-10 Batch 5:  Loss:     1.4990 Validation Accuracy: 0.470400\n",
      "Epoch  2, CIFAR-10 Batch 1:  Loss:     1.4977 Validation Accuracy: 0.464200\n",
      "Epoch  2, CIFAR-10 Batch 2:  Loss:     1.3024 Validation Accuracy: 0.502800\n",
      "Epoch  2, CIFAR-10 Batch 3:  Loss:     1.2073 Validation Accuracy: 0.519000\n",
      "Epoch  2, CIFAR-10 Batch 4:  Loss:     1.1476 Validation Accuracy: 0.535000\n",
      "Epoch  2, CIFAR-10 Batch 5:  Loss:     1.2271 Validation Accuracy: 0.543600\n",
      "Epoch  3, CIFAR-10 Batch 1:  Loss:     1.2269 Validation Accuracy: 0.550800\n",
      "Epoch  3, CIFAR-10 Batch 2:  Loss:     1.1473 Validation Accuracy: 0.531800\n",
      "Epoch  3, CIFAR-10 Batch 3:  Loss:     1.0553 Validation Accuracy: 0.554600\n",
      "Epoch  3, CIFAR-10 Batch 4:  Loss:     1.0276 Validation Accuracy: 0.564600\n",
      "Epoch  3, CIFAR-10 Batch 5:  Loss:     1.0605 Validation Accuracy: 0.580000\n",
      "Epoch  4, CIFAR-10 Batch 1:  Loss:     1.0957 Validation Accuracy: 0.584000\n",
      "Epoch  4, CIFAR-10 Batch 2:  Loss:     1.0300 Validation Accuracy: 0.572800\n",
      "Epoch  4, CIFAR-10 Batch 3:  Loss:     0.9851 Validation Accuracy: 0.577400\n",
      "Epoch  4, CIFAR-10 Batch 4:  Loss:     0.9510 Validation Accuracy: 0.592000\n",
      "Epoch  4, CIFAR-10 Batch 5:  Loss:     0.9333 Validation Accuracy: 0.609600\n",
      "Epoch  5, CIFAR-10 Batch 1:  Loss:     1.0110 Validation Accuracy: 0.607000\n",
      "Epoch  5, CIFAR-10 Batch 2:  Loss:     0.9151 Validation Accuracy: 0.610200\n",
      "Epoch  5, CIFAR-10 Batch 3:  Loss:     0.8356 Validation Accuracy: 0.609200\n",
      "Epoch  5, CIFAR-10 Batch 4:  Loss:     0.8410 Validation Accuracy: 0.611000\n",
      "Epoch  5, CIFAR-10 Batch 5:  Loss:     0.8343 Validation Accuracy: 0.628000\n",
      "Epoch  6, CIFAR-10 Batch 1:  Loss:     0.9144 Validation Accuracy: 0.613800\n",
      "Epoch  6, CIFAR-10 Batch 2:  Loss:     0.8220 Validation Accuracy: 0.625800\n",
      "Epoch  6, CIFAR-10 Batch 3:  Loss:     0.7527 Validation Accuracy: 0.622200\n",
      "Epoch  6, CIFAR-10 Batch 4:  Loss:     0.7742 Validation Accuracy: 0.625200\n",
      "Epoch  6, CIFAR-10 Batch 5:  Loss:     0.7441 Validation Accuracy: 0.640000\n",
      "Epoch  7, CIFAR-10 Batch 1:  Loss:     0.8781 Validation Accuracy: 0.612800\n",
      "Epoch  7, CIFAR-10 Batch 2:  Loss:     0.7380 Validation Accuracy: 0.629400\n",
      "Epoch  7, CIFAR-10 Batch 3:  Loss:     0.7035 Validation Accuracy: 0.618400\n",
      "Epoch  7, CIFAR-10 Batch 4:  Loss:     0.6877 Validation Accuracy: 0.641800\n",
      "Epoch  7, CIFAR-10 Batch 5:  Loss:     0.6557 Validation Accuracy: 0.646200\n",
      "Epoch  8, CIFAR-10 Batch 1:  Loss:     0.7673 Validation Accuracy: 0.637600\n",
      "Epoch  8, CIFAR-10 Batch 2:  Loss:     0.7237 Validation Accuracy: 0.628000\n",
      "Epoch  8, CIFAR-10 Batch 3:  Loss:     0.6124 Validation Accuracy: 0.642000\n",
      "Epoch  8, CIFAR-10 Batch 4:  Loss:     0.6070 Validation Accuracy: 0.644400\n",
      "Epoch  8, CIFAR-10 Batch 5:  Loss:     0.5883 Validation Accuracy: 0.649600\n",
      "Epoch  9, CIFAR-10 Batch 1:  Loss:     0.7141 Validation Accuracy: 0.641800\n",
      "Epoch  9, CIFAR-10 Batch 2:  Loss:     0.6396 Validation Accuracy: 0.637600\n",
      "Epoch  9, CIFAR-10 Batch 3:  Loss:     0.5257 Validation Accuracy: 0.644000\n",
      "Epoch  9, CIFAR-10 Batch 4:  Loss:     0.5292 Validation Accuracy: 0.651400\n",
      "Epoch  9, CIFAR-10 Batch 5:  Loss:     0.4906 Validation Accuracy: 0.662200\n",
      "Epoch 10, CIFAR-10 Batch 1:  Loss:     0.6299 Validation Accuracy: 0.640000\n",
      "Epoch 10, CIFAR-10 Batch 2:  Loss:     0.6090 Validation Accuracy: 0.626400\n",
      "Epoch 10, CIFAR-10 Batch 3:  Loss:     0.4664 Validation Accuracy: 0.659600\n",
      "Epoch 10, CIFAR-10 Batch 4:  Loss:     0.4954 Validation Accuracy: 0.640400\n",
      "Epoch 10, CIFAR-10 Batch 5:  Loss:     0.4328 Validation Accuracy: 0.659000\n",
      "Epoch 11, CIFAR-10 Batch 1:  Loss:     0.6209 Validation Accuracy: 0.619000\n",
      "Epoch 11, CIFAR-10 Batch 2:  Loss:     0.4907 Validation Accuracy: 0.657800\n",
      "Epoch 11, CIFAR-10 Batch 3:  Loss:     0.4377 Validation Accuracy: 0.645400\n",
      "Epoch 11, CIFAR-10 Batch 4:  Loss:     0.4291 Validation Accuracy: 0.642400\n",
      "Epoch 11, CIFAR-10 Batch 5:  Loss:     0.3816 Validation Accuracy: 0.658600\n",
      "Epoch 12, CIFAR-10 Batch 1:  Loss:     0.5287 Validation Accuracy: 0.631600\n",
      "Epoch 12, CIFAR-10 Batch 2:  Loss:     0.5797 Validation Accuracy: 0.616800\n",
      "Epoch 12, CIFAR-10 Batch 3:  Loss:     0.4190 Validation Accuracy: 0.642800\n",
      "Epoch 12, CIFAR-10 Batch 4:  Loss:     0.3752 Validation Accuracy: 0.652800\n",
      "Epoch 12, CIFAR-10 Batch 5:  Loss:     0.3813 Validation Accuracy: 0.635800\n",
      "Epoch 13, CIFAR-10 Batch 1:  Loss:     0.3985 Validation Accuracy: 0.650200\n",
      "Epoch 13, CIFAR-10 Batch 2:  Loss:     0.4690 Validation Accuracy: 0.642400\n",
      "Epoch 13, CIFAR-10 Batch 3:  Loss:     0.3322 Validation Accuracy: 0.657200\n",
      "Epoch 13, CIFAR-10 Batch 4:  Loss:     0.3258 Validation Accuracy: 0.652800\n",
      "Epoch 13, CIFAR-10 Batch 5:  Loss:     0.3063 Validation Accuracy: 0.653000\n",
      "Epoch 14, CIFAR-10 Batch 1:  Loss:     0.3509 Validation Accuracy: 0.650800\n",
      "Epoch 14, CIFAR-10 Batch 2:  Loss:     0.3941 Validation Accuracy: 0.637800\n",
      "Epoch 14, CIFAR-10 Batch 3:  Loss:     0.2813 Validation Accuracy: 0.659000\n",
      "Epoch 14, CIFAR-10 Batch 4:  Loss:     0.2837 Validation Accuracy: 0.646400\n",
      "Epoch 14, CIFAR-10 Batch 5:  Loss:     0.2393 Validation Accuracy: 0.663000\n",
      "Epoch 15, CIFAR-10 Batch 1:  Loss:     0.3312 Validation Accuracy: 0.623800\n",
      "Epoch 15, CIFAR-10 Batch 2:  Loss:     0.3611 Validation Accuracy: 0.634400\n",
      "Epoch 15, CIFAR-10 Batch 3:  Loss:     0.2381 Validation Accuracy: 0.661800\n",
      "Epoch 15, CIFAR-10 Batch 4:  Loss:     0.3218 Validation Accuracy: 0.613200\n",
      "Epoch 15, CIFAR-10 Batch 5:  Loss:     0.2849 Validation Accuracy: 0.640400\n",
      "Epoch 16, CIFAR-10 Batch 1:  Loss:     0.2718 Validation Accuracy: 0.639400\n",
      "Epoch 16, CIFAR-10 Batch 2:  Loss:     0.2711 Validation Accuracy: 0.652600\n",
      "Epoch 16, CIFAR-10 Batch 3:  Loss:     0.2010 Validation Accuracy: 0.658000\n",
      "Epoch 16, CIFAR-10 Batch 4:  Loss:     0.2273 Validation Accuracy: 0.647400\n",
      "Epoch 16, CIFAR-10 Batch 5:  Loss:     0.2430 Validation Accuracy: 0.635200\n",
      "Epoch 17, CIFAR-10 Batch 1:  Loss:     0.3245 Validation Accuracy: 0.622800\n",
      "Epoch 17, CIFAR-10 Batch 2:  Loss:     0.2769 Validation Accuracy: 0.663200\n",
      "Epoch 17, CIFAR-10 Batch 3:  Loss:     0.1896 Validation Accuracy: 0.645200\n",
      "Epoch 17, CIFAR-10 Batch 4:  Loss:     0.2207 Validation Accuracy: 0.646000\n",
      "Epoch 17, CIFAR-10 Batch 5:  Loss:     0.2277 Validation Accuracy: 0.645800\n",
      "Epoch 18, CIFAR-10 Batch 1:  Loss:     0.2129 Validation Accuracy: 0.653000\n",
      "Epoch 18, CIFAR-10 Batch 2:  Loss:     0.2293 Validation Accuracy: 0.667800\n",
      "Epoch 18, CIFAR-10 Batch 3:  Loss:     0.1789 Validation Accuracy: 0.653000\n",
      "Epoch 18, CIFAR-10 Batch 4:  Loss:     0.1993 Validation Accuracy: 0.627800\n",
      "Epoch 18, CIFAR-10 Batch 5:  Loss:     0.2124 Validation Accuracy: 0.635200\n",
      "Epoch 19, CIFAR-10 Batch 1:  Loss:     0.2643 Validation Accuracy: 0.631200\n",
      "Epoch 19, CIFAR-10 Batch 2:  Loss:     0.1658 Validation Accuracy: 0.671400\n",
      "Epoch 19, CIFAR-10 Batch 3:  Loss:     0.1490 Validation Accuracy: 0.652200\n",
      "Epoch 19, CIFAR-10 Batch 4:  Loss:     0.1559 Validation Accuracy: 0.638000\n",
      "Epoch 19, CIFAR-10 Batch 5:  Loss:     0.1402 Validation Accuracy: 0.651600\n",
      "Epoch 20, CIFAR-10 Batch 1:  Loss:     0.1878 Validation Accuracy: 0.643600\n",
      "Epoch 20, CIFAR-10 Batch 2:  Loss:     0.1994 Validation Accuracy: 0.650200\n",
      "Epoch 20, CIFAR-10 Batch 3:  Loss:     0.1260 Validation Accuracy: 0.656800\n",
      "Epoch 20, CIFAR-10 Batch 4:  Loss:     0.1309 Validation Accuracy: 0.650200\n",
      "Epoch 20, CIFAR-10 Batch 5:  Loss:     0.2350 Validation Accuracy: 0.605800\n",
      "Epoch 21, CIFAR-10 Batch 1:  Loss:     0.1286 Validation Accuracy: 0.658200\n",
      "Epoch 21, CIFAR-10 Batch 2:  Loss:     0.1836 Validation Accuracy: 0.636200\n",
      "Epoch 21, CIFAR-10 Batch 3:  Loss:     0.1099 Validation Accuracy: 0.655000\n",
      "Epoch 21, CIFAR-10 Batch 4:  Loss:     0.1416 Validation Accuracy: 0.631200\n",
      "Epoch 21, CIFAR-10 Batch 5:  Loss:     0.1340 Validation Accuracy: 0.640800\n",
      "Epoch 22, CIFAR-10 Batch 1:  Loss:     0.1110 Validation Accuracy: 0.657800\n",
      "Epoch 22, CIFAR-10 Batch 2:  Loss:     0.1982 Validation Accuracy: 0.606800\n",
      "Epoch 22, CIFAR-10 Batch 3:  Loss:     0.1311 Validation Accuracy: 0.641200\n"
     ]
    },
    {
     "name": "stdout",
     "output_type": "stream",
     "text": [
      "Epoch 22, CIFAR-10 Batch 4:  Loss:     0.1257 Validation Accuracy: 0.631400\n",
      "Epoch 22, CIFAR-10 Batch 5:  Loss:     0.1581 Validation Accuracy: 0.632200\n",
      "Epoch 23, CIFAR-10 Batch 1:  Loss:     0.1185 Validation Accuracy: 0.656000\n",
      "Epoch 23, CIFAR-10 Batch 2:  Loss:     0.1450 Validation Accuracy: 0.630600\n",
      "Epoch 23, CIFAR-10 Batch 3:  Loss:     0.1116 Validation Accuracy: 0.655600\n",
      "Epoch 23, CIFAR-10 Batch 4:  Loss:     0.0866 Validation Accuracy: 0.652400\n",
      "Epoch 23, CIFAR-10 Batch 5:  Loss:     0.0988 Validation Accuracy: 0.638600\n",
      "Epoch 24, CIFAR-10 Batch 1:  Loss:     0.1311 Validation Accuracy: 0.643200\n",
      "Epoch 24, CIFAR-10 Batch 2:  Loss:     0.2215 Validation Accuracy: 0.585000\n",
      "Epoch 24, CIFAR-10 Batch 3:  Loss:     0.1166 Validation Accuracy: 0.637600\n",
      "Epoch 24, CIFAR-10 Batch 4:  Loss:     0.0846 Validation Accuracy: 0.640200\n",
      "Epoch 24, CIFAR-10 Batch 5:  Loss:     0.1013 Validation Accuracy: 0.644000\n",
      "Epoch 25, CIFAR-10 Batch 1:  Loss:     0.0858 Validation Accuracy: 0.657200\n",
      "Epoch 25, CIFAR-10 Batch 2:  Loss:     0.0871 Validation Accuracy: 0.642400\n",
      "Epoch 25, CIFAR-10 Batch 3:  Loss:     0.0820 Validation Accuracy: 0.643600\n",
      "Epoch 25, CIFAR-10 Batch 4:  Loss:     0.0778 Validation Accuracy: 0.652800\n",
      "Epoch 25, CIFAR-10 Batch 5:  Loss:     0.1337 Validation Accuracy: 0.635200\n",
      "Epoch 26, CIFAR-10 Batch 1:  Loss:     0.1107 Validation Accuracy: 0.626400\n",
      "Epoch 26, CIFAR-10 Batch 2:  Loss:     0.1298 Validation Accuracy: 0.630200\n",
      "Epoch 26, CIFAR-10 Batch 3:  Loss:     0.1059 Validation Accuracy: 0.626200\n",
      "Epoch 26, CIFAR-10 Batch 4:  Loss:     0.0684 Validation Accuracy: 0.651000\n",
      "Epoch 26, CIFAR-10 Batch 5:  Loss:     0.0785 Validation Accuracy: 0.656600\n",
      "Epoch 27, CIFAR-10 Batch 1:  Loss:     0.0724 Validation Accuracy: 0.635200\n",
      "Epoch 27, CIFAR-10 Batch 2:  Loss:     0.1027 Validation Accuracy: 0.634000\n",
      "Epoch 27, CIFAR-10 Batch 3:  Loss:     0.0784 Validation Accuracy: 0.646800\n",
      "Epoch 27, CIFAR-10 Batch 4:  Loss:     0.1006 Validation Accuracy: 0.617600\n",
      "Epoch 27, CIFAR-10 Batch 5:  Loss:     0.0964 Validation Accuracy: 0.640000\n",
      "Epoch 28, CIFAR-10 Batch 1:  Loss:     0.0526 Validation Accuracy: 0.643800\n",
      "Epoch 28, CIFAR-10 Batch 2:  Loss:     0.0506 Validation Accuracy: 0.661800\n",
      "Epoch 28, CIFAR-10 Batch 3:  Loss:     0.0652 Validation Accuracy: 0.647800\n",
      "Epoch 28, CIFAR-10 Batch 4:  Loss:     0.0662 Validation Accuracy: 0.621400\n",
      "Epoch 28, CIFAR-10 Batch 5:  Loss:     0.0368 Validation Accuracy: 0.659000\n",
      "Epoch 29, CIFAR-10 Batch 1:  Loss:     0.0458 Validation Accuracy: 0.652000\n",
      "Epoch 29, CIFAR-10 Batch 2:  Loss:     0.0749 Validation Accuracy: 0.656800\n",
      "Epoch 29, CIFAR-10 Batch 3:  Loss:     0.0497 Validation Accuracy: 0.659200\n",
      "Epoch 29, CIFAR-10 Batch 4:  Loss:     0.1211 Validation Accuracy: 0.602400\n",
      "Epoch 29, CIFAR-10 Batch 5:  Loss:     0.0450 Validation Accuracy: 0.650400\n",
      "Epoch 30, CIFAR-10 Batch 1:  Loss:     0.0471 Validation Accuracy: 0.644400\n",
      "Epoch 30, CIFAR-10 Batch 2:  Loss:     0.0784 Validation Accuracy: 0.632000\n",
      "Epoch 30, CIFAR-10 Batch 3:  Loss:     0.0901 Validation Accuracy: 0.621200\n",
      "Epoch 30, CIFAR-10 Batch 4:  Loss:     0.0344 Validation Accuracy: 0.633000\n",
      "Epoch 30, CIFAR-10 Batch 5:  Loss:     0.0518 Validation Accuracy: 0.634600\n",
      "Epoch 31, CIFAR-10 Batch 1:  Loss:     0.0483 Validation Accuracy: 0.648800\n",
      "Epoch 31, CIFAR-10 Batch 2:  Loss:     0.0434 Validation Accuracy: 0.648600\n",
      "Epoch 31, CIFAR-10 Batch 3:  Loss:     0.0357 Validation Accuracy: 0.647600\n",
      "Epoch 31, CIFAR-10 Batch 4:  Loss:     0.0799 Validation Accuracy: 0.626200\n",
      "Epoch 31, CIFAR-10 Batch 5:  Loss:     0.0516 Validation Accuracy: 0.636400\n",
      "Epoch 32, CIFAR-10 Batch 1:  Loss:     0.0405 Validation Accuracy: 0.657600\n",
      "Epoch 32, CIFAR-10 Batch 2:  Loss:     0.0289 Validation Accuracy: 0.655000\n",
      "Epoch 32, CIFAR-10 Batch 3:  Loss:     0.0427 Validation Accuracy: 0.634000\n",
      "Epoch 32, CIFAR-10 Batch 4:  Loss:     0.1013 Validation Accuracy: 0.628800\n",
      "Epoch 32, CIFAR-10 Batch 5:  Loss:     0.1114 Validation Accuracy: 0.591000\n",
      "Epoch 33, CIFAR-10 Batch 1:  Loss:     0.0738 Validation Accuracy: 0.640000\n",
      "Epoch 33, CIFAR-10 Batch 2:  Loss:     0.0691 Validation Accuracy: 0.637200\n",
      "Epoch 33, CIFAR-10 Batch 3:  Loss:     0.0336 Validation Accuracy: 0.647400\n",
      "Epoch 33, CIFAR-10 Batch 4:  Loss:     0.0415 Validation Accuracy: 0.654400\n",
      "Epoch 33, CIFAR-10 Batch 5:  Loss:     0.0457 Validation Accuracy: 0.644400\n",
      "Epoch 34, CIFAR-10 Batch 1:  Loss:     0.0473 Validation Accuracy: 0.643200\n",
      "Epoch 34, CIFAR-10 Batch 2:  Loss:     0.0464 Validation Accuracy: 0.635800\n",
      "Epoch 34, CIFAR-10 Batch 3:  Loss:     0.0421 Validation Accuracy: 0.646000\n",
      "Epoch 34, CIFAR-10 Batch 4:  Loss:     0.0173 Validation Accuracy: 0.658800\n",
      "Epoch 34, CIFAR-10 Batch 5:  Loss:     0.0390 Validation Accuracy: 0.636800\n",
      "Epoch 35, CIFAR-10 Batch 1:  Loss:     0.0564 Validation Accuracy: 0.637800\n",
      "Epoch 35, CIFAR-10 Batch 2:  Loss:     0.0470 Validation Accuracy: 0.639800\n",
      "Epoch 35, CIFAR-10 Batch 3:  Loss:     0.0334 Validation Accuracy: 0.640000\n",
      "Epoch 35, CIFAR-10 Batch 4:  Loss:     0.0778 Validation Accuracy: 0.621800\n",
      "Epoch 35, CIFAR-10 Batch 5:  Loss:     0.0404 Validation Accuracy: 0.635200\n",
      "Epoch 36, CIFAR-10 Batch 1:  Loss:     0.0280 Validation Accuracy: 0.652600\n",
      "Epoch 36, CIFAR-10 Batch 2:  Loss:     0.0502 Validation Accuracy: 0.633000\n",
      "Epoch 36, CIFAR-10 Batch 3:  Loss:     0.0381 Validation Accuracy: 0.637600\n",
      "Epoch 36, CIFAR-10 Batch 4:  Loss:     0.0145 Validation Accuracy: 0.650200\n",
      "Epoch 36, CIFAR-10 Batch 5:  Loss:     0.0242 Validation Accuracy: 0.649000\n",
      "Epoch 37, CIFAR-10 Batch 1:  Loss:     0.0154 Validation Accuracy: 0.657400\n",
      "Epoch 37, CIFAR-10 Batch 2:  Loss:     0.0169 Validation Accuracy: 0.650000\n",
      "Epoch 37, CIFAR-10 Batch 3:  Loss:     0.0128 Validation Accuracy: 0.655000\n",
      "Epoch 37, CIFAR-10 Batch 4:  Loss:     0.0107 Validation Accuracy: 0.655600\n",
      "Epoch 37, CIFAR-10 Batch 5:  Loss:     0.0111 Validation Accuracy: 0.658400\n",
      "Epoch 38, CIFAR-10 Batch 1:  Loss:     0.0161 Validation Accuracy: 0.665200\n",
      "Epoch 38, CIFAR-10 Batch 2:  Loss:     0.0095 Validation Accuracy: 0.661800\n",
      "Epoch 38, CIFAR-10 Batch 3:  Loss:     0.0078 Validation Accuracy: 0.664400\n",
      "Epoch 38, CIFAR-10 Batch 4:  Loss:     0.0073 Validation Accuracy: 0.657000\n",
      "Epoch 38, CIFAR-10 Batch 5:  Loss:     0.0037 Validation Accuracy: 0.662000\n",
      "Epoch 39, CIFAR-10 Batch 1:  Loss:     0.0078 Validation Accuracy: 0.663400\n",
      "Epoch 39, CIFAR-10 Batch 2:  Loss:     0.0101 Validation Accuracy: 0.658200\n",
      "Epoch 39, CIFAR-10 Batch 3:  Loss:     0.0046 Validation Accuracy: 0.670200\n",
      "Epoch 39, CIFAR-10 Batch 4:  Loss:     0.0049 Validation Accuracy: 0.664000\n",
      "Epoch 39, CIFAR-10 Batch 5:  Loss:     0.0064 Validation Accuracy: 0.662400\n",
      "Epoch 40, CIFAR-10 Batch 1:  Loss:     0.0053 Validation Accuracy: 0.662800\n",
      "Epoch 40, CIFAR-10 Batch 2:  Loss:     0.0048 Validation Accuracy: 0.664400\n",
      "Epoch 40, CIFAR-10 Batch 3:  Loss:     0.0033 Validation Accuracy: 0.668400\n",
      "Epoch 40, CIFAR-10 Batch 4:  Loss:     0.0045 Validation Accuracy: 0.668200\n",
      "Epoch 40, CIFAR-10 Batch 5:  Loss:     0.0069 Validation Accuracy: 0.663400\n",
      "Epoch 41, CIFAR-10 Batch 1:  Loss:     0.0045 Validation Accuracy: 0.662600\n",
      "Epoch 41, CIFAR-10 Batch 2:  Loss:     0.0041 Validation Accuracy: 0.665600\n",
      "Epoch 41, CIFAR-10 Batch 3:  Loss:     0.0038 Validation Accuracy: 0.672600\n",
      "Epoch 41, CIFAR-10 Batch 4:  Loss:     0.0038 Validation Accuracy: 0.664800\n",
      "Epoch 41, CIFAR-10 Batch 5:  Loss:     0.0048 Validation Accuracy: 0.666600\n",
      "Epoch 42, CIFAR-10 Batch 1:  Loss:     0.0043 Validation Accuracy: 0.664800\n",
      "Epoch 42, CIFAR-10 Batch 2:  Loss:     0.0064 Validation Accuracy: 0.657200\n",
      "Epoch 42, CIFAR-10 Batch 3:  Loss:     0.0033 Validation Accuracy: 0.665000\n",
      "Epoch 42, CIFAR-10 Batch 4:  Loss:     0.0035 Validation Accuracy: 0.664400\n",
      "Epoch 42, CIFAR-10 Batch 5:  Loss:     0.0056 Validation Accuracy: 0.662400\n",
      "Epoch 43, CIFAR-10 Batch 1:  Loss:     0.0052 Validation Accuracy: 0.663400\n",
      "Epoch 43, CIFAR-10 Batch 2:  Loss:     0.0056 Validation Accuracy: 0.661400\n",
      "Epoch 43, CIFAR-10 Batch 3:  Loss:     0.0073 Validation Accuracy: 0.651400\n",
      "Epoch 43, CIFAR-10 Batch 4:  Loss:     0.0058 Validation Accuracy: 0.660600\n",
      "Epoch 43, CIFAR-10 Batch 5:  Loss:     0.0031 Validation Accuracy: 0.664000\n",
      "Epoch 44, CIFAR-10 Batch 1:  Loss:     0.0043 Validation Accuracy: 0.671400\n"
     ]
    },
    {
     "name": "stdout",
     "output_type": "stream",
     "text": [
      "Epoch 44, CIFAR-10 Batch 2:  Loss:     0.0033 Validation Accuracy: 0.660200\n",
      "Epoch 44, CIFAR-10 Batch 3:  Loss:     0.0021 Validation Accuracy: 0.667200\n",
      "Epoch 44, CIFAR-10 Batch 4:  Loss:     0.0021 Validation Accuracy: 0.667200\n",
      "Epoch 44, CIFAR-10 Batch 5:  Loss:     0.0034 Validation Accuracy: 0.665200\n",
      "Epoch 45, CIFAR-10 Batch 1:  Loss:     0.0021 Validation Accuracy: 0.667600\n",
      "Epoch 45, CIFAR-10 Batch 2:  Loss:     0.0049 Validation Accuracy: 0.658200\n",
      "Epoch 45, CIFAR-10 Batch 3:  Loss:     0.0026 Validation Accuracy: 0.665000\n",
      "Epoch 45, CIFAR-10 Batch 4:  Loss:     0.0028 Validation Accuracy: 0.669000\n",
      "Epoch 45, CIFAR-10 Batch 5:  Loss:     0.0019 Validation Accuracy: 0.666200\n",
      "Epoch 46, CIFAR-10 Batch 1:  Loss:     0.0028 Validation Accuracy: 0.669200\n",
      "Epoch 46, CIFAR-10 Batch 2:  Loss:     0.0014 Validation Accuracy: 0.664000\n",
      "Epoch 46, CIFAR-10 Batch 3:  Loss:     0.0022 Validation Accuracy: 0.665600\n",
      "Epoch 46, CIFAR-10 Batch 4:  Loss:     0.0023 Validation Accuracy: 0.667000\n",
      "Epoch 46, CIFAR-10 Batch 5:  Loss:     0.0025 Validation Accuracy: 0.670800\n",
      "Epoch 47, CIFAR-10 Batch 1:  Loss:     0.0018 Validation Accuracy: 0.670600\n",
      "Epoch 47, CIFAR-10 Batch 2:  Loss:     0.0015 Validation Accuracy: 0.664200\n",
      "Epoch 47, CIFAR-10 Batch 3:  Loss:     0.0038 Validation Accuracy: 0.657000\n",
      "Epoch 47, CIFAR-10 Batch 4:  Loss:     0.0080 Validation Accuracy: 0.650200\n",
      "Epoch 47, CIFAR-10 Batch 5:  Loss:     0.0034 Validation Accuracy: 0.660200\n",
      "Epoch 48, CIFAR-10 Batch 1:  Loss:     0.0030 Validation Accuracy: 0.664000\n",
      "Epoch 48, CIFAR-10 Batch 2:  Loss:     0.0024 Validation Accuracy: 0.662600\n",
      "Epoch 48, CIFAR-10 Batch 3:  Loss:     0.0013 Validation Accuracy: 0.669000\n",
      "Epoch 48, CIFAR-10 Batch 4:  Loss:     0.0034 Validation Accuracy: 0.665000\n",
      "Epoch 48, CIFAR-10 Batch 5:  Loss:     0.0030 Validation Accuracy: 0.665400\n",
      "Epoch 49, CIFAR-10 Batch 1:  Loss:     0.0039 Validation Accuracy: 0.667800\n",
      "Epoch 49, CIFAR-10 Batch 2:  Loss:     0.0020 Validation Accuracy: 0.663600\n",
      "Epoch 49, CIFAR-10 Batch 3:  Loss:     0.0018 Validation Accuracy: 0.664600\n",
      "Epoch 49, CIFAR-10 Batch 4:  Loss:     0.0018 Validation Accuracy: 0.665000\n",
      "Epoch 49, CIFAR-10 Batch 5:  Loss:     0.0025 Validation Accuracy: 0.661800\n",
      "Epoch 50, CIFAR-10 Batch 1:  Loss:     0.0039 Validation Accuracy: 0.664800\n",
      "Epoch 50, CIFAR-10 Batch 2:  Loss:     0.0022 Validation Accuracy: 0.665800\n",
      "Epoch 50, CIFAR-10 Batch 3:  Loss:     0.0020 Validation Accuracy: 0.668200\n",
      "Epoch 50, CIFAR-10 Batch 4:  Loss:     0.0027 Validation Accuracy: 0.660800\n",
      "Epoch 50, CIFAR-10 Batch 5:  Loss:     0.0022 Validation Accuracy: 0.654200\n",
      "Epoch 51, CIFAR-10 Batch 1:  Loss:     0.0030 Validation Accuracy: 0.665000\n",
      "Epoch 51, CIFAR-10 Batch 2:  Loss:     0.0025 Validation Accuracy: 0.663800\n",
      "Epoch 51, CIFAR-10 Batch 3:  Loss:     0.0029 Validation Accuracy: 0.661600\n",
      "Epoch 51, CIFAR-10 Batch 4:  Loss:     0.0023 Validation Accuracy: 0.650200\n",
      "Epoch 51, CIFAR-10 Batch 5:  Loss:     0.0028 Validation Accuracy: 0.659600\n",
      "Epoch 52, CIFAR-10 Batch 1:  Loss:     0.0014 Validation Accuracy: 0.667400\n",
      "Epoch 52, CIFAR-10 Batch 2:  Loss:     0.0015 Validation Accuracy: 0.665600\n",
      "Epoch 52, CIFAR-10 Batch 3:  Loss:     0.0019 Validation Accuracy: 0.670800\n",
      "Epoch 52, CIFAR-10 Batch 4:  Loss:     0.0048 Validation Accuracy: 0.649000\n",
      "Epoch 52, CIFAR-10 Batch 5:  Loss:     0.0038 Validation Accuracy: 0.650800\n",
      "Epoch 53, CIFAR-10 Batch 1:  Loss:     0.0031 Validation Accuracy: 0.663600\n",
      "Epoch 53, CIFAR-10 Batch 2:  Loss:     0.0017 Validation Accuracy: 0.662800\n",
      "Epoch 53, CIFAR-10 Batch 3:  Loss:     0.0016 Validation Accuracy: 0.670600\n",
      "Epoch 53, CIFAR-10 Batch 4:  Loss:     0.0013 Validation Accuracy: 0.666600\n",
      "Epoch 53, CIFAR-10 Batch 5:  Loss:     0.0022 Validation Accuracy: 0.660600\n",
      "Epoch 54, CIFAR-10 Batch 1:  Loss:     0.0026 Validation Accuracy: 0.660000\n",
      "Epoch 54, CIFAR-10 Batch 2:  Loss:     0.0033 Validation Accuracy: 0.652800\n",
      "Epoch 54, CIFAR-10 Batch 3:  Loss:     0.0012 Validation Accuracy: 0.665600\n",
      "Epoch 54, CIFAR-10 Batch 4:  Loss:     0.0014 Validation Accuracy: 0.675000\n",
      "Epoch 54, CIFAR-10 Batch 5:  Loss:     0.0010 Validation Accuracy: 0.670200\n",
      "Epoch 55, CIFAR-10 Batch 1:  Loss:     0.0017 Validation Accuracy: 0.663800\n",
      "Epoch 55, CIFAR-10 Batch 2:  Loss:     0.0032 Validation Accuracy: 0.656200\n",
      "Epoch 55, CIFAR-10 Batch 3:  Loss:     0.0024 Validation Accuracy: 0.663400\n",
      "Epoch 55, CIFAR-10 Batch 4:  Loss:     0.0016 Validation Accuracy: 0.656200\n",
      "Epoch 55, CIFAR-10 Batch 5:  Loss:     0.0048 Validation Accuracy: 0.645600\n",
      "Epoch 56, CIFAR-10 Batch 1:  Loss:     0.0020 Validation Accuracy: 0.654800\n",
      "Epoch 56, CIFAR-10 Batch 2:  Loss:     0.0027 Validation Accuracy: 0.662000\n",
      "Epoch 56, CIFAR-10 Batch 3:  Loss:     0.0040 Validation Accuracy: 0.667200\n",
      "Epoch 56, CIFAR-10 Batch 4:  Loss:     0.0011 Validation Accuracy: 0.667600\n",
      "Epoch 56, CIFAR-10 Batch 5:  Loss:     0.0048 Validation Accuracy: 0.655200\n",
      "Epoch 57, CIFAR-10 Batch 1:  Loss:     0.0132 Validation Accuracy: 0.644200\n",
      "Epoch 57, CIFAR-10 Batch 2:  Loss:     0.0044 Validation Accuracy: 0.655400\n",
      "Epoch 57, CIFAR-10 Batch 3:  Loss:     0.0031 Validation Accuracy: 0.654600\n",
      "Epoch 57, CIFAR-10 Batch 4:  Loss:     0.0067 Validation Accuracy: 0.656000\n",
      "Epoch 57, CIFAR-10 Batch 5:  Loss:     0.0028 Validation Accuracy: 0.659000\n",
      "Epoch 58, CIFAR-10 Batch 1:  Loss:     0.0031 Validation Accuracy: 0.661800\n",
      "Epoch 58, CIFAR-10 Batch 2:  Loss:     0.0060 Validation Accuracy: 0.644000\n",
      "Epoch 58, CIFAR-10 Batch 3:  Loss:     0.0179 Validation Accuracy: 0.656400\n",
      "Epoch 58, CIFAR-10 Batch 4:  Loss:     0.0045 Validation Accuracy: 0.652400\n",
      "Epoch 58, CIFAR-10 Batch 5:  Loss:     0.0050 Validation Accuracy: 0.648000\n",
      "Epoch 59, CIFAR-10 Batch 1:  Loss:     0.0057 Validation Accuracy: 0.662600\n",
      "Epoch 59, CIFAR-10 Batch 2:  Loss:     0.0106 Validation Accuracy: 0.657000\n",
      "Epoch 59, CIFAR-10 Batch 3:  Loss:     0.0089 Validation Accuracy: 0.651200\n",
      "Epoch 59, CIFAR-10 Batch 4:  Loss:     0.0114 Validation Accuracy: 0.638200\n",
      "Epoch 59, CIFAR-10 Batch 5:  Loss:     0.0057 Validation Accuracy: 0.651400\n",
      "Epoch 60, CIFAR-10 Batch 1:  Loss:     0.0071 Validation Accuracy: 0.647600\n",
      "Epoch 60, CIFAR-10 Batch 2:  Loss:     0.0258 Validation Accuracy: 0.640400\n",
      "Epoch 60, CIFAR-10 Batch 3:  Loss:     0.0122 Validation Accuracy: 0.645200\n",
      "Epoch 60, CIFAR-10 Batch 4:  Loss:     0.0128 Validation Accuracy: 0.640000\n",
      "Epoch 60, CIFAR-10 Batch 5:  Loss:     0.0115 Validation Accuracy: 0.649400\n"
     ]
    }
   ],
   "source": [
    "\"\"\"\n",
    "DON'T MODIFY ANYTHING IN THIS CELL\n",
    "\"\"\"\n",
    "save_model_path = './image_classification'\n",
    "\n",
    "print('Training...')\n",
    "with tf.Session() as sess:\n",
    "    # Initializing the variables\n",
    "    sess.run(tf.global_variables_initializer())\n",
    "    \n",
    "    # Training cycle\n",
    "    for epoch in range(epochs):\n",
    "        # Loop over all batches\n",
    "        n_batches = 5\n",
    "        for batch_i in range(1, n_batches + 1):\n",
    "            for batch_features, batch_labels in helper.load_preprocess_training_batch(batch_i, batch_size):\n",
    "                train_neural_network(sess, optimizer, keep_probability, batch_features, batch_labels)\n",
    "            print('Epoch {:>2}, CIFAR-10 Batch {}:  '.format(epoch + 1, batch_i), end='')\n",
    "            print_stats(sess, batch_features, batch_labels, cost, accuracy)\n",
    "            \n",
    "    # Save Model\n",
    "    saver = tf.train.Saver()\n",
    "    save_path = saver.save(sess, save_model_path)"
   ]
  },
  {
   "cell_type": "markdown",
   "metadata": {},
   "source": [
    "# Checkpoint\n",
    "The model has been saved to disk.\n",
    "## Test Model\n",
    "Test your model against the test dataset.  This will be your final accuracy. You should have an accuracy greater than 50%. If you don't, keep tweaking the model architecture and parameters."
   ]
  },
  {
   "cell_type": "code",
   "execution_count": 83,
   "metadata": {},
   "outputs": [
    {
     "name": "stdout",
     "output_type": "stream",
     "text": [
      "INFO:tensorflow:Restoring parameters from ./image_classification\n",
      "Testing Accuracy: 0.6378963708877563\n",
      "\n"
     ]
    },
    {
     "data": {
      "image/png": "[encoded data removed]",
      "text/plain": [
       "<matplotlib.figure.Figure at 0x1d42aa5c128>"
      ]
     },
     "metadata": {
      "image/png": {
       "height": 319,
       "width": 355
      }
     },
     "output_type": "display_data"
    }
   ],
   "source": [
    "\"\"\"\n",
    "DON'T MODIFY ANYTHING IN THIS CELL\n",
    "\"\"\"\n",
    "%matplotlib inline\n",
    "%config InlineBackend.figure_format = 'retina'\n",
    "\n",
    "import tensorflow as tf\n",
    "import pickle\n",
    "import helper\n",
    "import random\n",
    "\n",
    "# Set batch size if not already set\n",
    "try:\n",
    "    if batch_size:\n",
    "        pass\n",
    "except NameError:\n",
    "    batch_size = 64\n",
    "\n",
    "save_model_path = './image_classification'\n",
    "n_samples = 4\n",
    "top_n_predictions = 3\n",
    "\n",
    "def test_model():\n",
    "    \"\"\"\n",
    "    Test the saved model against the test dataset\n",
    "    \"\"\"\n",
    "\n",
    "    test_features, test_labels = pickle.load(open('preprocess_training.p', mode='rb'))\n",
    "    loaded_graph = tf.Graph()\n",
    "\n",
    "    with tf.Session(graph=loaded_graph) as sess:\n",
    "        # Load model\n",
    "        loader = tf.train.import_meta_graph(save_model_path + '.meta')\n",
    "        loader.restore(sess, save_model_path)\n",
    "\n",
    "        # Get Tensors from loaded model\n",
    "        loaded_x = loaded_graph.get_tensor_by_name('x:0')\n",
    "        loaded_y = loaded_graph.get_tensor_by_name('y:0')\n",
    "        loaded_keep_prob = loaded_graph.get_tensor_by_name('keep_prob:0')\n",
    "        loaded_logits = loaded_graph.get_tensor_by_name('logits:0')\n",
    "        loaded_acc = loaded_graph.get_tensor_by_name('accuracy:0')\n",
    "        \n",
    "        # Get accuracy in batches for memory limitations\n",
    "        test_batch_acc_total = 0\n",
    "        test_batch_count = 0\n",
    "        \n",
    "        for train_feature_batch, train_label_batch in helper.batch_features_labels(test_features, test_labels, batch_size):\n",
    "            test_batch_acc_total += sess.run(\n",
    "                loaded_acc,\n",
    "                feed_dict={loaded_x: train_feature_batch, loaded_y: train_label_batch, loaded_keep_prob: 1.0})\n",
    "            test_batch_count += 1\n",
    "\n",
    "        print('Testing Accuracy: {}\\n'.format(test_batch_acc_total/test_batch_count))\n",
    "\n",
    "        # Print Random Samples\n",
    "        random_test_features, random_test_labels = tuple(zip(*random.sample(list(zip(test_features, test_labels)), n_samples)))\n",
    "        random_test_predictions = sess.run(\n",
    "            tf.nn.top_k(tf.nn.softmax(loaded_logits), top_n_predictions),\n",
    "            feed_dict={loaded_x: random_test_features, loaded_y: random_test_labels, loaded_keep_prob: 1.0})\n",
    "        helper.display_image_predictions(random_test_features, random_test_labels, random_test_predictions)\n",
    "\n",
    "\n",
    "test_model()"
   ]
  },
  {
   "cell_type": "markdown",
   "metadata": {},
   "source": [
    "## Why 50-70% Accuracy?\n",
    "You might be wondering why you can't get an accuracy any higher. First things first, 50% isn't bad for a simple CNN.  Pure guessing would get you 10% accuracy. However, you might notice people are getting scores [well above 70%](http://rodrigob.github.io/are_we_there_yet/build/classification_datasets_results.html#43494641522d3130).  That's because we haven't taught you all there is to know about neural networks. We still need to cover a few more techniques.\n",
    "## Submitting This Project\n",
    "When submitting this project, make sure to run all the cells before saving the notebook.  Save the notebook file as \"dlnd_image_classification.ipynb\" and save it as a HTML file under \"File\" -> \"Download as\".  Include the \"helper.py\" and \"problem_unittests.py\" files in your submission."
   ]
  }
 ],
 "metadata": {
  "kernelspec": {
   "display_name": "Python 3",
   "language": "python",
   "name": "python3"
  },
  "language_info": {
   "codemirror_mode": {
    "name": "ipython",
    "version": 3
   },
   "file_extension": ".py",
   "mimetype": "text/x-python",
   "name": "python",
   "nbconvert_exporter": "python",
   "pygments_lexer": "ipython3",
   "version": "3.5.2"
  }
 },
 "nbformat": 4,
 "nbformat_minor": 1
}
